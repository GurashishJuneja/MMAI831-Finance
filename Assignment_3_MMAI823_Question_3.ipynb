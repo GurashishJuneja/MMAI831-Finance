{
  "cells": [
    {
      "cell_type": "markdown",
      "metadata": {
        "id": "view-in-github",
        "colab_type": "text"
      },
      "source": [
        "<a href=\"https://colab.research.google.com/github/GurashishJuneja/MMAI831-Finance/blob/main/Assignment_3_MMAI823_Question_3.ipynb\" target=\"_parent\"><img src=\"https://colab.research.google.com/assets/colab-badge.svg\" alt=\"Open In Colab\"/></a>"
      ]
    },
    {
      "cell_type": "markdown",
      "id": "f10e89e0",
      "metadata": {
        "id": "f10e89e0"
      },
      "source": [
        "## Long Short Term Memory \n",
        "\n"
      ]
    },
    {
      "cell_type": "markdown",
      "id": "4656e33e",
      "metadata": {
        "id": "4656e33e"
      },
      "source": [
        "1. Import the libraries"
      ]
    },
    {
      "cell_type": "code",
      "execution_count": null,
      "id": "db4c5bc3",
      "metadata": {
        "id": "db4c5bc3"
      },
      "outputs": [],
      "source": [
        "import numpy as np\n",
        "import pandas as pd\n",
        "import matplotlib.pyplot as plt\n",
        "\n",
        "import math\n",
        "\n",
        "import pandas_datareader as web\n",
        "from sklearn.preprocessing import MinMaxScaler\n",
        "from keras.models import Sequential\n",
        "from keras.layers import Dense, LSTM\n"
      ]
    },
    {
      "cell_type": "markdown",
      "id": "c9e5e775",
      "metadata": {
        "id": "c9e5e775"
      },
      "source": [
        "2. Download the data from yahoo. We use ANZN"
      ]
    },
    {
      "cell_type": "code",
      "source": [
        "import importlib.util\n",
        "package_name = 'yfinance'\n",
        "spec = importlib.util.find_spec(package_name)\n",
        "if spec is None:\n",
        "    print(package_name +\" is not installed\")\n",
        "    !pip install yfinance\n",
        "\n",
        "import yfinance as yf\n",
        "df=yf.download(['AMZN', 'GOOG'], start='2012-01-01', end='2023-02-10')\n",
        "\n",
        "df"
      ],
      "metadata": {
        "colab": {
          "base_uri": "https://localhost:8080/",
          "height": 742
        },
        "id": "Am_M8Sa8V3tN",
        "outputId": "13557a8d-f5e4-45aa-8cd6-87c163d02453"
      },
      "id": "Am_M8Sa8V3tN",
      "execution_count": null,
      "outputs": [
        {
          "output_type": "stream",
          "name": "stdout",
          "text": [
            "[*********************100%***********************]  2 of 2 completed\n"
          ]
        },
        {
          "output_type": "execute_result",
          "data": {
            "text/plain": [
              "             Adj Close                   Close                    High  \\\n",
              "                  AMZN        GOOG        AMZN        GOOG        AMZN   \n",
              "Date                                                                     \n",
              "2012-01-03    8.951500   16.573130    8.951500   16.573130    8.974000   \n",
              "2012-01-04    8.875500   16.644611    8.875500   16.644611    9.025000   \n",
              "2012-01-05    8.880500   16.413727    8.880500   16.413727    8.912500   \n",
              "2012-01-06    9.130500   16.189817    9.130500   16.189817    9.232500   \n",
              "2012-01-09    8.928000   15.503389    8.928000   15.503389    9.218500   \n",
              "...                ...         ...         ...         ...         ...   \n",
              "2023-02-03  103.389999  105.220001  103.389999  105.220001  108.779999   \n",
              "2023-02-06  102.180000  103.470001  102.180000  103.470001  103.949997   \n",
              "2023-02-07  102.110001  108.040001  102.110001  108.040001  102.410004   \n",
              "2023-02-08  100.050003  100.000000  100.050003  100.000000  102.669998   \n",
              "2023-02-09   98.239998   95.459999   98.239998   95.459999  101.779999   \n",
              "\n",
              "                               Low                    Open              \\\n",
              "                  GOOG        AMZN        GOOG        AMZN        GOOG   \n",
              "Date                                                                     \n",
              "2012-01-03   16.641375    8.777500   16.248346    8.794500   16.262545   \n",
              "2012-01-04   16.693678    8.803500   16.453827    8.960500   16.563665   \n",
              "2012-01-05   16.537264    8.702500   16.344486    8.797000   16.491436   \n",
              "2012-01-06   16.438385    8.875000   16.184088    8.903500   16.417213   \n",
              "2012-01-09   16.114599    8.850000   15.472754    9.138000   16.102144   \n",
              "...                ...         ...         ...         ...         ...   \n",
              "2023-02-03  108.019997  102.519997  103.300003  105.260002  103.510002   \n",
              "2023-02-06  104.699997  100.650002  102.209999  102.930000  102.684998   \n",
              "2023-02-07  108.669998   98.080002  103.547997  101.169998  103.629997   \n",
              "2023-02-08  103.580002   98.779999   98.455002  102.040001  102.690002   \n",
              "2023-02-09  100.610001   97.570000   93.860001  101.320000  100.540001   \n",
              "\n",
              "               Volume             \n",
              "                 AMZN       GOOG  \n",
              "Date                              \n",
              "2012-01-03  102216000  147611217  \n",
              "2012-01-04   84104000  114989399  \n",
              "2012-01-05   76182000  131808205  \n",
              "2012-01-06  140168000  108119746  \n",
              "2012-01-09  101138000  233776981  \n",
              "...               ...        ...  \n",
              "2023-02-03  144374800   36823400  \n",
              "2023-02-06   81945200   25573000  \n",
              "2023-02-07  119501300   33738800  \n",
              "2023-02-08   75878300   73546000  \n",
              "2023-02-09   64622500   97798600  \n",
              "\n",
              "[2795 rows x 12 columns]"
            ],
            "text/html": [
              "\n",
              "  <div id=\"df-bc4ca7a5-2a5c-4d16-b37e-7fa193d3c438\">\n",
              "    <div class=\"colab-df-container\">\n",
              "      <div>\n",
              "<style scoped>\n",
              "    .dataframe tbody tr th:only-of-type {\n",
              "        vertical-align: middle;\n",
              "    }\n",
              "\n",
              "    .dataframe tbody tr th {\n",
              "        vertical-align: top;\n",
              "    }\n",
              "\n",
              "    .dataframe thead tr th {\n",
              "        text-align: left;\n",
              "    }\n",
              "\n",
              "    .dataframe thead tr:last-of-type th {\n",
              "        text-align: right;\n",
              "    }\n",
              "</style>\n",
              "<table border=\"1\" class=\"dataframe\">\n",
              "  <thead>\n",
              "    <tr>\n",
              "      <th></th>\n",
              "      <th colspan=\"2\" halign=\"left\">Adj Close</th>\n",
              "      <th colspan=\"2\" halign=\"left\">Close</th>\n",
              "      <th colspan=\"2\" halign=\"left\">High</th>\n",
              "      <th colspan=\"2\" halign=\"left\">Low</th>\n",
              "      <th colspan=\"2\" halign=\"left\">Open</th>\n",
              "      <th colspan=\"2\" halign=\"left\">Volume</th>\n",
              "    </tr>\n",
              "    <tr>\n",
              "      <th></th>\n",
              "      <th>AMZN</th>\n",
              "      <th>GOOG</th>\n",
              "      <th>AMZN</th>\n",
              "      <th>GOOG</th>\n",
              "      <th>AMZN</th>\n",
              "      <th>GOOG</th>\n",
              "      <th>AMZN</th>\n",
              "      <th>GOOG</th>\n",
              "      <th>AMZN</th>\n",
              "      <th>GOOG</th>\n",
              "      <th>AMZN</th>\n",
              "      <th>GOOG</th>\n",
              "    </tr>\n",
              "    <tr>\n",
              "      <th>Date</th>\n",
              "      <th></th>\n",
              "      <th></th>\n",
              "      <th></th>\n",
              "      <th></th>\n",
              "      <th></th>\n",
              "      <th></th>\n",
              "      <th></th>\n",
              "      <th></th>\n",
              "      <th></th>\n",
              "      <th></th>\n",
              "      <th></th>\n",
              "      <th></th>\n",
              "    </tr>\n",
              "  </thead>\n",
              "  <tbody>\n",
              "    <tr>\n",
              "      <th>2012-01-03</th>\n",
              "      <td>8.951500</td>\n",
              "      <td>16.573130</td>\n",
              "      <td>8.951500</td>\n",
              "      <td>16.573130</td>\n",
              "      <td>8.974000</td>\n",
              "      <td>16.641375</td>\n",
              "      <td>8.777500</td>\n",
              "      <td>16.248346</td>\n",
              "      <td>8.794500</td>\n",
              "      <td>16.262545</td>\n",
              "      <td>102216000</td>\n",
              "      <td>147611217</td>\n",
              "    </tr>\n",
              "    <tr>\n",
              "      <th>2012-01-04</th>\n",
              "      <td>8.875500</td>\n",
              "      <td>16.644611</td>\n",
              "      <td>8.875500</td>\n",
              "      <td>16.644611</td>\n",
              "      <td>9.025000</td>\n",
              "      <td>16.693678</td>\n",
              "      <td>8.803500</td>\n",
              "      <td>16.453827</td>\n",
              "      <td>8.960500</td>\n",
              "      <td>16.563665</td>\n",
              "      <td>84104000</td>\n",
              "      <td>114989399</td>\n",
              "    </tr>\n",
              "    <tr>\n",
              "      <th>2012-01-05</th>\n",
              "      <td>8.880500</td>\n",
              "      <td>16.413727</td>\n",
              "      <td>8.880500</td>\n",
              "      <td>16.413727</td>\n",
              "      <td>8.912500</td>\n",
              "      <td>16.537264</td>\n",
              "      <td>8.702500</td>\n",
              "      <td>16.344486</td>\n",
              "      <td>8.797000</td>\n",
              "      <td>16.491436</td>\n",
              "      <td>76182000</td>\n",
              "      <td>131808205</td>\n",
              "    </tr>\n",
              "    <tr>\n",
              "      <th>2012-01-06</th>\n",
              "      <td>9.130500</td>\n",
              "      <td>16.189817</td>\n",
              "      <td>9.130500</td>\n",
              "      <td>16.189817</td>\n",
              "      <td>9.232500</td>\n",
              "      <td>16.438385</td>\n",
              "      <td>8.875000</td>\n",
              "      <td>16.184088</td>\n",
              "      <td>8.903500</td>\n",
              "      <td>16.417213</td>\n",
              "      <td>140168000</td>\n",
              "      <td>108119746</td>\n",
              "    </tr>\n",
              "    <tr>\n",
              "      <th>2012-01-09</th>\n",
              "      <td>8.928000</td>\n",
              "      <td>15.503389</td>\n",
              "      <td>8.928000</td>\n",
              "      <td>15.503389</td>\n",
              "      <td>9.218500</td>\n",
              "      <td>16.114599</td>\n",
              "      <td>8.850000</td>\n",
              "      <td>15.472754</td>\n",
              "      <td>9.138000</td>\n",
              "      <td>16.102144</td>\n",
              "      <td>101138000</td>\n",
              "      <td>233776981</td>\n",
              "    </tr>\n",
              "    <tr>\n",
              "      <th>...</th>\n",
              "      <td>...</td>\n",
              "      <td>...</td>\n",
              "      <td>...</td>\n",
              "      <td>...</td>\n",
              "      <td>...</td>\n",
              "      <td>...</td>\n",
              "      <td>...</td>\n",
              "      <td>...</td>\n",
              "      <td>...</td>\n",
              "      <td>...</td>\n",
              "      <td>...</td>\n",
              "      <td>...</td>\n",
              "    </tr>\n",
              "    <tr>\n",
              "      <th>2023-02-03</th>\n",
              "      <td>103.389999</td>\n",
              "      <td>105.220001</td>\n",
              "      <td>103.389999</td>\n",
              "      <td>105.220001</td>\n",
              "      <td>108.779999</td>\n",
              "      <td>108.019997</td>\n",
              "      <td>102.519997</td>\n",
              "      <td>103.300003</td>\n",
              "      <td>105.260002</td>\n",
              "      <td>103.510002</td>\n",
              "      <td>144374800</td>\n",
              "      <td>36823400</td>\n",
              "    </tr>\n",
              "    <tr>\n",
              "      <th>2023-02-06</th>\n",
              "      <td>102.180000</td>\n",
              "      <td>103.470001</td>\n",
              "      <td>102.180000</td>\n",
              "      <td>103.470001</td>\n",
              "      <td>103.949997</td>\n",
              "      <td>104.699997</td>\n",
              "      <td>100.650002</td>\n",
              "      <td>102.209999</td>\n",
              "      <td>102.930000</td>\n",
              "      <td>102.684998</td>\n",
              "      <td>81945200</td>\n",
              "      <td>25573000</td>\n",
              "    </tr>\n",
              "    <tr>\n",
              "      <th>2023-02-07</th>\n",
              "      <td>102.110001</td>\n",
              "      <td>108.040001</td>\n",
              "      <td>102.110001</td>\n",
              "      <td>108.040001</td>\n",
              "      <td>102.410004</td>\n",
              "      <td>108.669998</td>\n",
              "      <td>98.080002</td>\n",
              "      <td>103.547997</td>\n",
              "      <td>101.169998</td>\n",
              "      <td>103.629997</td>\n",
              "      <td>119501300</td>\n",
              "      <td>33738800</td>\n",
              "    </tr>\n",
              "    <tr>\n",
              "      <th>2023-02-08</th>\n",
              "      <td>100.050003</td>\n",
              "      <td>100.000000</td>\n",
              "      <td>100.050003</td>\n",
              "      <td>100.000000</td>\n",
              "      <td>102.669998</td>\n",
              "      <td>103.580002</td>\n",
              "      <td>98.779999</td>\n",
              "      <td>98.455002</td>\n",
              "      <td>102.040001</td>\n",
              "      <td>102.690002</td>\n",
              "      <td>75878300</td>\n",
              "      <td>73546000</td>\n",
              "    </tr>\n",
              "    <tr>\n",
              "      <th>2023-02-09</th>\n",
              "      <td>98.239998</td>\n",
              "      <td>95.459999</td>\n",
              "      <td>98.239998</td>\n",
              "      <td>95.459999</td>\n",
              "      <td>101.779999</td>\n",
              "      <td>100.610001</td>\n",
              "      <td>97.570000</td>\n",
              "      <td>93.860001</td>\n",
              "      <td>101.320000</td>\n",
              "      <td>100.540001</td>\n",
              "      <td>64622500</td>\n",
              "      <td>97798600</td>\n",
              "    </tr>\n",
              "  </tbody>\n",
              "</table>\n",
              "<p>2795 rows × 12 columns</p>\n",
              "</div>\n",
              "      <button class=\"colab-df-convert\" onclick=\"convertToInteractive('df-bc4ca7a5-2a5c-4d16-b37e-7fa193d3c438')\"\n",
              "              title=\"Convert this dataframe to an interactive table.\"\n",
              "              style=\"display:none;\">\n",
              "        \n",
              "  <svg xmlns=\"http://www.w3.org/2000/svg\" height=\"24px\"viewBox=\"0 0 24 24\"\n",
              "       width=\"24px\">\n",
              "    <path d=\"M0 0h24v24H0V0z\" fill=\"none\"/>\n",
              "    <path d=\"M18.56 5.44l.94 2.06.94-2.06 2.06-.94-2.06-.94-.94-2.06-.94 2.06-2.06.94zm-11 1L8.5 8.5l.94-2.06 2.06-.94-2.06-.94L8.5 2.5l-.94 2.06-2.06.94zm10 10l.94 2.06.94-2.06 2.06-.94-2.06-.94-.94-2.06-.94 2.06-2.06.94z\"/><path d=\"M17.41 7.96l-1.37-1.37c-.4-.4-.92-.59-1.43-.59-.52 0-1.04.2-1.43.59L10.3 9.45l-7.72 7.72c-.78.78-.78 2.05 0 2.83L4 21.41c.39.39.9.59 1.41.59.51 0 1.02-.2 1.41-.59l7.78-7.78 2.81-2.81c.8-.78.8-2.07 0-2.86zM5.41 20L4 18.59l7.72-7.72 1.47 1.35L5.41 20z\"/>\n",
              "  </svg>\n",
              "      </button>\n",
              "      \n",
              "  <style>\n",
              "    .colab-df-container {\n",
              "      display:flex;\n",
              "      flex-wrap:wrap;\n",
              "      gap: 12px;\n",
              "    }\n",
              "\n",
              "    .colab-df-convert {\n",
              "      background-color: #E8F0FE;\n",
              "      border: none;\n",
              "      border-radius: 50%;\n",
              "      cursor: pointer;\n",
              "      display: none;\n",
              "      fill: #1967D2;\n",
              "      height: 32px;\n",
              "      padding: 0 0 0 0;\n",
              "      width: 32px;\n",
              "    }\n",
              "\n",
              "    .colab-df-convert:hover {\n",
              "      background-color: #E2EBFA;\n",
              "      box-shadow: 0px 1px 2px rgba(60, 64, 67, 0.3), 0px 1px 3px 1px rgba(60, 64, 67, 0.15);\n",
              "      fill: #174EA6;\n",
              "    }\n",
              "\n",
              "    [theme=dark] .colab-df-convert {\n",
              "      background-color: #3B4455;\n",
              "      fill: #D2E3FC;\n",
              "    }\n",
              "\n",
              "    [theme=dark] .colab-df-convert:hover {\n",
              "      background-color: #434B5C;\n",
              "      box-shadow: 0px 1px 3px 1px rgba(0, 0, 0, 0.15);\n",
              "      filter: drop-shadow(0px 1px 2px rgba(0, 0, 0, 0.3));\n",
              "      fill: #FFFFFF;\n",
              "    }\n",
              "  </style>\n",
              "\n",
              "      <script>\n",
              "        const buttonEl =\n",
              "          document.querySelector('#df-bc4ca7a5-2a5c-4d16-b37e-7fa193d3c438 button.colab-df-convert');\n",
              "        buttonEl.style.display =\n",
              "          google.colab.kernel.accessAllowed ? 'block' : 'none';\n",
              "\n",
              "        async function convertToInteractive(key) {\n",
              "          const element = document.querySelector('#df-bc4ca7a5-2a5c-4d16-b37e-7fa193d3c438');\n",
              "          const dataTable =\n",
              "            await google.colab.kernel.invokeFunction('convertToInteractive',\n",
              "                                                     [key], {});\n",
              "          if (!dataTable) return;\n",
              "\n",
              "          const docLinkHtml = 'Like what you see? Visit the ' +\n",
              "            '<a target=\"_blank\" href=https://colab.research.google.com/notebooks/data_table.ipynb>data table notebook</a>'\n",
              "            + ' to learn more about interactive tables.';\n",
              "          element.innerHTML = '';\n",
              "          dataTable['output_type'] = 'display_data';\n",
              "          await google.colab.output.renderOutput(dataTable, element);\n",
              "          const docLink = document.createElement('div');\n",
              "          docLink.innerHTML = docLinkHtml;\n",
              "          element.appendChild(docLink);\n",
              "        }\n",
              "      </script>\n",
              "    </div>\n",
              "  </div>\n",
              "  "
            ]
          },
          "metadata": {},
          "execution_count": 301
        }
      ]
    },
    {
      "cell_type": "code",
      "execution_count": null,
      "id": "43749d68",
      "metadata": {
        "id": "43749d68",
        "colab": {
          "base_uri": "https://localhost:8080/"
        },
        "outputId": "69dbfeff-a78c-45ad-b87f-4abca49cc56c"
      },
      "outputs": [
        {
          "output_type": "execute_result",
          "data": {
            "text/plain": [
              "(2795, 12)"
            ]
          },
          "metadata": {},
          "execution_count": 302
        }
      ],
      "source": [
        "df.shape"
      ]
    },
    {
      "cell_type": "markdown",
      "id": "bacd0dd2",
      "metadata": {
        "id": "bacd0dd2"
      },
      "source": [
        "3. Visualize"
      ]
    },
    {
      "cell_type": "code",
      "source": [
        "df['Close'].tail(10)"
      ],
      "metadata": {
        "colab": {
          "base_uri": "https://localhost:8080/",
          "height": 394
        },
        "id": "iEJNYO1IW20S",
        "outputId": "f0a31fd7-42df-43fd-846f-bc109ffe6803"
      },
      "id": "iEJNYO1IW20S",
      "execution_count": null,
      "outputs": [
        {
          "output_type": "execute_result",
          "data": {
            "text/plain": [
              "                  AMZN        GOOG\n",
              "Date                              \n",
              "2023-01-27  102.239998  100.709999\n",
              "2023-01-30  100.550003   97.949997\n",
              "2023-01-31  103.129997   99.870003\n",
              "2023-02-01  105.150002  101.430000\n",
              "2023-02-02  112.910004  108.800003\n",
              "2023-02-03  103.389999  105.220001\n",
              "2023-02-06  102.180000  103.470001\n",
              "2023-02-07  102.110001  108.040001\n",
              "2023-02-08  100.050003  100.000000\n",
              "2023-02-09   98.239998   95.459999"
            ],
            "text/html": [
              "\n",
              "  <div id=\"df-b1823db6-7d9e-4537-a82f-ab8b8b394f9e\">\n",
              "    <div class=\"colab-df-container\">\n",
              "      <div>\n",
              "<style scoped>\n",
              "    .dataframe tbody tr th:only-of-type {\n",
              "        vertical-align: middle;\n",
              "    }\n",
              "\n",
              "    .dataframe tbody tr th {\n",
              "        vertical-align: top;\n",
              "    }\n",
              "\n",
              "    .dataframe thead th {\n",
              "        text-align: right;\n",
              "    }\n",
              "</style>\n",
              "<table border=\"1\" class=\"dataframe\">\n",
              "  <thead>\n",
              "    <tr style=\"text-align: right;\">\n",
              "      <th></th>\n",
              "      <th>AMZN</th>\n",
              "      <th>GOOG</th>\n",
              "    </tr>\n",
              "    <tr>\n",
              "      <th>Date</th>\n",
              "      <th></th>\n",
              "      <th></th>\n",
              "    </tr>\n",
              "  </thead>\n",
              "  <tbody>\n",
              "    <tr>\n",
              "      <th>2023-01-27</th>\n",
              "      <td>102.239998</td>\n",
              "      <td>100.709999</td>\n",
              "    </tr>\n",
              "    <tr>\n",
              "      <th>2023-01-30</th>\n",
              "      <td>100.550003</td>\n",
              "      <td>97.949997</td>\n",
              "    </tr>\n",
              "    <tr>\n",
              "      <th>2023-01-31</th>\n",
              "      <td>103.129997</td>\n",
              "      <td>99.870003</td>\n",
              "    </tr>\n",
              "    <tr>\n",
              "      <th>2023-02-01</th>\n",
              "      <td>105.150002</td>\n",
              "      <td>101.430000</td>\n",
              "    </tr>\n",
              "    <tr>\n",
              "      <th>2023-02-02</th>\n",
              "      <td>112.910004</td>\n",
              "      <td>108.800003</td>\n",
              "    </tr>\n",
              "    <tr>\n",
              "      <th>2023-02-03</th>\n",
              "      <td>103.389999</td>\n",
              "      <td>105.220001</td>\n",
              "    </tr>\n",
              "    <tr>\n",
              "      <th>2023-02-06</th>\n",
              "      <td>102.180000</td>\n",
              "      <td>103.470001</td>\n",
              "    </tr>\n",
              "    <tr>\n",
              "      <th>2023-02-07</th>\n",
              "      <td>102.110001</td>\n",
              "      <td>108.040001</td>\n",
              "    </tr>\n",
              "    <tr>\n",
              "      <th>2023-02-08</th>\n",
              "      <td>100.050003</td>\n",
              "      <td>100.000000</td>\n",
              "    </tr>\n",
              "    <tr>\n",
              "      <th>2023-02-09</th>\n",
              "      <td>98.239998</td>\n",
              "      <td>95.459999</td>\n",
              "    </tr>\n",
              "  </tbody>\n",
              "</table>\n",
              "</div>\n",
              "      <button class=\"colab-df-convert\" onclick=\"convertToInteractive('df-b1823db6-7d9e-4537-a82f-ab8b8b394f9e')\"\n",
              "              title=\"Convert this dataframe to an interactive table.\"\n",
              "              style=\"display:none;\">\n",
              "        \n",
              "  <svg xmlns=\"http://www.w3.org/2000/svg\" height=\"24px\"viewBox=\"0 0 24 24\"\n",
              "       width=\"24px\">\n",
              "    <path d=\"M0 0h24v24H0V0z\" fill=\"none\"/>\n",
              "    <path d=\"M18.56 5.44l.94 2.06.94-2.06 2.06-.94-2.06-.94-.94-2.06-.94 2.06-2.06.94zm-11 1L8.5 8.5l.94-2.06 2.06-.94-2.06-.94L8.5 2.5l-.94 2.06-2.06.94zm10 10l.94 2.06.94-2.06 2.06-.94-2.06-.94-.94-2.06-.94 2.06-2.06.94z\"/><path d=\"M17.41 7.96l-1.37-1.37c-.4-.4-.92-.59-1.43-.59-.52 0-1.04.2-1.43.59L10.3 9.45l-7.72 7.72c-.78.78-.78 2.05 0 2.83L4 21.41c.39.39.9.59 1.41.59.51 0 1.02-.2 1.41-.59l7.78-7.78 2.81-2.81c.8-.78.8-2.07 0-2.86zM5.41 20L4 18.59l7.72-7.72 1.47 1.35L5.41 20z\"/>\n",
              "  </svg>\n",
              "      </button>\n",
              "      \n",
              "  <style>\n",
              "    .colab-df-container {\n",
              "      display:flex;\n",
              "      flex-wrap:wrap;\n",
              "      gap: 12px;\n",
              "    }\n",
              "\n",
              "    .colab-df-convert {\n",
              "      background-color: #E8F0FE;\n",
              "      border: none;\n",
              "      border-radius: 50%;\n",
              "      cursor: pointer;\n",
              "      display: none;\n",
              "      fill: #1967D2;\n",
              "      height: 32px;\n",
              "      padding: 0 0 0 0;\n",
              "      width: 32px;\n",
              "    }\n",
              "\n",
              "    .colab-df-convert:hover {\n",
              "      background-color: #E2EBFA;\n",
              "      box-shadow: 0px 1px 2px rgba(60, 64, 67, 0.3), 0px 1px 3px 1px rgba(60, 64, 67, 0.15);\n",
              "      fill: #174EA6;\n",
              "    }\n",
              "\n",
              "    [theme=dark] .colab-df-convert {\n",
              "      background-color: #3B4455;\n",
              "      fill: #D2E3FC;\n",
              "    }\n",
              "\n",
              "    [theme=dark] .colab-df-convert:hover {\n",
              "      background-color: #434B5C;\n",
              "      box-shadow: 0px 1px 3px 1px rgba(0, 0, 0, 0.15);\n",
              "      filter: drop-shadow(0px 1px 2px rgba(0, 0, 0, 0.3));\n",
              "      fill: #FFFFFF;\n",
              "    }\n",
              "  </style>\n",
              "\n",
              "      <script>\n",
              "        const buttonEl =\n",
              "          document.querySelector('#df-b1823db6-7d9e-4537-a82f-ab8b8b394f9e button.colab-df-convert');\n",
              "        buttonEl.style.display =\n",
              "          google.colab.kernel.accessAllowed ? 'block' : 'none';\n",
              "\n",
              "        async function convertToInteractive(key) {\n",
              "          const element = document.querySelector('#df-b1823db6-7d9e-4537-a82f-ab8b8b394f9e');\n",
              "          const dataTable =\n",
              "            await google.colab.kernel.invokeFunction('convertToInteractive',\n",
              "                                                     [key], {});\n",
              "          if (!dataTable) return;\n",
              "\n",
              "          const docLinkHtml = 'Like what you see? Visit the ' +\n",
              "            '<a target=\"_blank\" href=https://colab.research.google.com/notebooks/data_table.ipynb>data table notebook</a>'\n",
              "            + ' to learn more about interactive tables.';\n",
              "          element.innerHTML = '';\n",
              "          dataTable['output_type'] = 'display_data';\n",
              "          await google.colab.output.renderOutput(dataTable, element);\n",
              "          const docLink = document.createElement('div');\n",
              "          docLink.innerHTML = docLinkHtml;\n",
              "          element.appendChild(docLink);\n",
              "        }\n",
              "      </script>\n",
              "    </div>\n",
              "  </div>\n",
              "  "
            ]
          },
          "metadata": {},
          "execution_count": 303
        }
      ]
    },
    {
      "cell_type": "code",
      "execution_count": null,
      "id": "eae6956a",
      "metadata": {
        "id": "eae6956a",
        "colab": {
          "base_uri": "https://localhost:8080/",
          "height": 615
        },
        "outputId": "cdadedab-aa38-4322-85ad-869a5099899f"
      },
      "outputs": [
        {
          "output_type": "execute_result",
          "data": {
            "text/plain": [
              "<matplotlib.legend.Legend at 0x7f50c47d6b60>"
            ]
          },
          "metadata": {},
          "execution_count": 304
        },
        {
          "output_type": "display_data",
          "data": {
            "text/plain": [
              "<Figure size 1200x800 with 1 Axes>"
            ],
            "image/png": "[encoded data removed]"
          },
          "metadata": {}
        }
      ],
      "source": [
        "plt.figure(figsize=(12,8))\n",
        "plt.title('Close Price History')\n",
        "plt.plot(df['Close'])\n",
        "plt.xlabel('Date')\n",
        "plt.ylabel('Stock Price ($)')\n",
        "plt.legend(['AMZN', 'GOOG'])"
      ]
    },
    {
      "cell_type": "code",
      "execution_count": null,
      "id": "5a64595a",
      "metadata": {
        "id": "5a64595a",
        "colab": {
          "base_uri": "https://localhost:8080/",
          "height": 708
        },
        "outputId": "c467fc92-7476-4dd0-d44c-f6e46b8b38c8"
      },
      "outputs": [
        {
          "output_type": "execute_result",
          "data": {
            "text/plain": [
              "              AMZN       GOOG\n",
              "Date                         \n",
              "2012-01-03  8.9515  16.573130\n",
              "2012-01-04  8.8755  16.644611\n",
              "2012-01-05  8.8805  16.413727\n",
              "2012-01-06  9.1305  16.189817\n",
              "2012-01-09  8.9280  15.503389\n",
              "2012-01-10  8.9670  15.520326\n",
              "2012-01-11  8.9450  15.590563\n",
              "2012-01-12  8.7965  15.682219\n",
              "2012-01-13  8.9210  15.566403\n",
              "2012-01-17  9.0830  15.655818\n",
              "2012-01-18  9.4720  15.763664\n",
              "2012-01-19  9.7225  15.929542\n",
              "2012-01-20  9.5465  14.595044\n",
              "2012-01-23  9.3045  14.583338\n",
              "2012-01-24  9.3500  14.469017\n",
              "2012-01-25  9.3900  14.184085\n",
              "2012-01-26  9.6660  14.149464\n",
              "2012-01-27  9.7685  14.445355\n",
              "2012-01-30  9.6075  14.388319\n",
              "2012-01-31  9.7220  14.448593"
            ],
            "text/html": [
              "\n",
              "  <div id=\"df-a5557ff1-9d66-4f09-b7ae-094a4729bbac\">\n",
              "    <div class=\"colab-df-container\">\n",
              "      <div>\n",
              "<style scoped>\n",
              "    .dataframe tbody tr th:only-of-type {\n",
              "        vertical-align: middle;\n",
              "    }\n",
              "\n",
              "    .dataframe tbody tr th {\n",
              "        vertical-align: top;\n",
              "    }\n",
              "\n",
              "    .dataframe thead th {\n",
              "        text-align: right;\n",
              "    }\n",
              "</style>\n",
              "<table border=\"1\" class=\"dataframe\">\n",
              "  <thead>\n",
              "    <tr style=\"text-align: right;\">\n",
              "      <th></th>\n",
              "      <th>AMZN</th>\n",
              "      <th>GOOG</th>\n",
              "    </tr>\n",
              "    <tr>\n",
              "      <th>Date</th>\n",
              "      <th></th>\n",
              "      <th></th>\n",
              "    </tr>\n",
              "  </thead>\n",
              "  <tbody>\n",
              "    <tr>\n",
              "      <th>2012-01-03</th>\n",
              "      <td>8.9515</td>\n",
              "      <td>16.573130</td>\n",
              "    </tr>\n",
              "    <tr>\n",
              "      <th>2012-01-04</th>\n",
              "      <td>8.8755</td>\n",
              "      <td>16.644611</td>\n",
              "    </tr>\n",
              "    <tr>\n",
              "      <th>2012-01-05</th>\n",
              "      <td>8.8805</td>\n",
              "      <td>16.413727</td>\n",
              "    </tr>\n",
              "    <tr>\n",
              "      <th>2012-01-06</th>\n",
              "      <td>9.1305</td>\n",
              "      <td>16.189817</td>\n",
              "    </tr>\n",
              "    <tr>\n",
              "      <th>2012-01-09</th>\n",
              "      <td>8.9280</td>\n",
              "      <td>15.503389</td>\n",
              "    </tr>\n",
              "    <tr>\n",
              "      <th>2012-01-10</th>\n",
              "      <td>8.9670</td>\n",
              "      <td>15.520326</td>\n",
              "    </tr>\n",
              "    <tr>\n",
              "      <th>2012-01-11</th>\n",
              "      <td>8.9450</td>\n",
              "      <td>15.590563</td>\n",
              "    </tr>\n",
              "    <tr>\n",
              "      <th>2012-01-12</th>\n",
              "      <td>8.7965</td>\n",
              "      <td>15.682219</td>\n",
              "    </tr>\n",
              "    <tr>\n",
              "      <th>2012-01-13</th>\n",
              "      <td>8.9210</td>\n",
              "      <td>15.566403</td>\n",
              "    </tr>\n",
              "    <tr>\n",
              "      <th>2012-01-17</th>\n",
              "      <td>9.0830</td>\n",
              "      <td>15.655818</td>\n",
              "    </tr>\n",
              "    <tr>\n",
              "      <th>2012-01-18</th>\n",
              "      <td>9.4720</td>\n",
              "      <td>15.763664</td>\n",
              "    </tr>\n",
              "    <tr>\n",
              "      <th>2012-01-19</th>\n",
              "      <td>9.7225</td>\n",
              "      <td>15.929542</td>\n",
              "    </tr>\n",
              "    <tr>\n",
              "      <th>2012-01-20</th>\n",
              "      <td>9.5465</td>\n",
              "      <td>14.595044</td>\n",
              "    </tr>\n",
              "    <tr>\n",
              "      <th>2012-01-23</th>\n",
              "      <td>9.3045</td>\n",
              "      <td>14.583338</td>\n",
              "    </tr>\n",
              "    <tr>\n",
              "      <th>2012-01-24</th>\n",
              "      <td>9.3500</td>\n",
              "      <td>14.469017</td>\n",
              "    </tr>\n",
              "    <tr>\n",
              "      <th>2012-01-25</th>\n",
              "      <td>9.3900</td>\n",
              "      <td>14.184085</td>\n",
              "    </tr>\n",
              "    <tr>\n",
              "      <th>2012-01-26</th>\n",
              "      <td>9.6660</td>\n",
              "      <td>14.149464</td>\n",
              "    </tr>\n",
              "    <tr>\n",
              "      <th>2012-01-27</th>\n",
              "      <td>9.7685</td>\n",
              "      <td>14.445355</td>\n",
              "    </tr>\n",
              "    <tr>\n",
              "      <th>2012-01-30</th>\n",
              "      <td>9.6075</td>\n",
              "      <td>14.388319</td>\n",
              "    </tr>\n",
              "    <tr>\n",
              "      <th>2012-01-31</th>\n",
              "      <td>9.7220</td>\n",
              "      <td>14.448593</td>\n",
              "    </tr>\n",
              "  </tbody>\n",
              "</table>\n",
              "</div>\n",
              "      <button class=\"colab-df-convert\" onclick=\"convertToInteractive('df-a5557ff1-9d66-4f09-b7ae-094a4729bbac')\"\n",
              "              title=\"Convert this dataframe to an interactive table.\"\n",
              "              style=\"display:none;\">\n",
              "        \n",
              "  <svg xmlns=\"http://www.w3.org/2000/svg\" height=\"24px\"viewBox=\"0 0 24 24\"\n",
              "       width=\"24px\">\n",
              "    <path d=\"M0 0h24v24H0V0z\" fill=\"none\"/>\n",
              "    <path d=\"M18.56 5.44l.94 2.06.94-2.06 2.06-.94-2.06-.94-.94-2.06-.94 2.06-2.06.94zm-11 1L8.5 8.5l.94-2.06 2.06-.94-2.06-.94L8.5 2.5l-.94 2.06-2.06.94zm10 10l.94 2.06.94-2.06 2.06-.94-2.06-.94-.94-2.06-.94 2.06-2.06.94z\"/><path d=\"M17.41 7.96l-1.37-1.37c-.4-.4-.92-.59-1.43-.59-.52 0-1.04.2-1.43.59L10.3 9.45l-7.72 7.72c-.78.78-.78 2.05 0 2.83L4 21.41c.39.39.9.59 1.41.59.51 0 1.02-.2 1.41-.59l7.78-7.78 2.81-2.81c.8-.78.8-2.07 0-2.86zM5.41 20L4 18.59l7.72-7.72 1.47 1.35L5.41 20z\"/>\n",
              "  </svg>\n",
              "      </button>\n",
              "      \n",
              "  <style>\n",
              "    .colab-df-container {\n",
              "      display:flex;\n",
              "      flex-wrap:wrap;\n",
              "      gap: 12px;\n",
              "    }\n",
              "\n",
              "    .colab-df-convert {\n",
              "      background-color: #E8F0FE;\n",
              "      border: none;\n",
              "      border-radius: 50%;\n",
              "      cursor: pointer;\n",
              "      display: none;\n",
              "      fill: #1967D2;\n",
              "      height: 32px;\n",
              "      padding: 0 0 0 0;\n",
              "      width: 32px;\n",
              "    }\n",
              "\n",
              "    .colab-df-convert:hover {\n",
              "      background-color: #E2EBFA;\n",
              "      box-shadow: 0px 1px 2px rgba(60, 64, 67, 0.3), 0px 1px 3px 1px rgba(60, 64, 67, 0.15);\n",
              "      fill: #174EA6;\n",
              "    }\n",
              "\n",
              "    [theme=dark] .colab-df-convert {\n",
              "      background-color: #3B4455;\n",
              "      fill: #D2E3FC;\n",
              "    }\n",
              "\n",
              "    [theme=dark] .colab-df-convert:hover {\n",
              "      background-color: #434B5C;\n",
              "      box-shadow: 0px 1px 3px 1px rgba(0, 0, 0, 0.15);\n",
              "      filter: drop-shadow(0px 1px 2px rgba(0, 0, 0, 0.3));\n",
              "      fill: #FFFFFF;\n",
              "    }\n",
              "  </style>\n",
              "\n",
              "      <script>\n",
              "        const buttonEl =\n",
              "          document.querySelector('#df-a5557ff1-9d66-4f09-b7ae-094a4729bbac button.colab-df-convert');\n",
              "        buttonEl.style.display =\n",
              "          google.colab.kernel.accessAllowed ? 'block' : 'none';\n",
              "\n",
              "        async function convertToInteractive(key) {\n",
              "          const element = document.querySelector('#df-a5557ff1-9d66-4f09-b7ae-094a4729bbac');\n",
              "          const dataTable =\n",
              "            await google.colab.kernel.invokeFunction('convertToInteractive',\n",
              "                                                     [key], {});\n",
              "          if (!dataTable) return;\n",
              "\n",
              "          const docLinkHtml = 'Like what you see? Visit the ' +\n",
              "            '<a target=\"_blank\" href=https://colab.research.google.com/notebooks/data_table.ipynb>data table notebook</a>'\n",
              "            + ' to learn more about interactive tables.';\n",
              "          element.innerHTML = '';\n",
              "          dataTable['output_type'] = 'display_data';\n",
              "          await google.colab.output.renderOutput(dataTable, element);\n",
              "          const docLink = document.createElement('div');\n",
              "          docLink.innerHTML = docLinkHtml;\n",
              "          element.appendChild(docLink);\n",
              "        }\n",
              "      </script>\n",
              "    </div>\n",
              "  </div>\n",
              "  "
            ]
          },
          "metadata": {},
          "execution_count": 305
        }
      ],
      "source": [
        "data=df['Close']\n",
        "data.head(20)"
      ]
    },
    {
      "cell_type": "markdown",
      "id": "2b36b9d2",
      "metadata": {
        "id": "2b36b9d2"
      },
      "source": [
        "4. Prepare the data"
      ]
    },
    {
      "cell_type": "code",
      "execution_count": null,
      "id": "33e98ea8",
      "metadata": {
        "id": "33e98ea8"
      },
      "outputs": [],
      "source": [
        "#convert to numpy array\n",
        "#We use 80 of the data for training\n",
        "train_pct=0.8  \n",
        "dataset=data.values\n",
        "train_data_len=math.ceil(len(dataset)*train_pct)"
      ]
    },
    {
      "cell_type": "code",
      "source": [
        "dataset.shape"
      ],
      "metadata": {
        "colab": {
          "base_uri": "https://localhost:8080/"
        },
        "id": "MHp6U3Wvynb5",
        "outputId": "ed89b5fc-7a2d-4263-8a97-b1c060714014"
      },
      "id": "MHp6U3Wvynb5",
      "execution_count": null,
      "outputs": [
        {
          "output_type": "execute_result",
          "data": {
            "text/plain": [
              "(2795, 2)"
            ]
          },
          "metadata": {},
          "execution_count": 307
        }
      ]
    },
    {
      "cell_type": "code",
      "execution_count": null,
      "id": "873eb3d8",
      "metadata": {
        "id": "873eb3d8"
      },
      "outputs": [],
      "source": [
        "#Scale the data\n",
        "scaler = MinMaxScaler(feature_range=(0,1))\n",
        "scaled_data=scaler.fit_transform(dataset)"
      ]
    },
    {
      "cell_type": "code",
      "source": [
        "scaled_data.shape"
      ],
      "metadata": {
        "colab": {
          "base_uri": "https://localhost:8080/"
        },
        "id": "zX2iLGJjy8zX",
        "outputId": "331b99db-6099-45c8-deb0-0c0d1bbb773d"
      },
      "id": "zX2iLGJjy8zX",
      "execution_count": null,
      "outputs": [
        {
          "output_type": "execute_result",
          "data": {
            "text/plain": [
              "(2795, 2)"
            ]
          },
          "metadata": {},
          "execution_count": 309
        }
      ]
    },
    {
      "cell_type": "markdown",
      "id": "b99e5e8a",
      "metadata": {
        "id": "b99e5e8a"
      },
      "source": [
        "### The window we use is n_period as input"
      ]
    },
    {
      "cell_type": "code",
      "execution_count": null,
      "id": "b24fd20b",
      "metadata": {
        "id": "b24fd20b"
      },
      "outputs": [],
      "source": [
        "n_period=60\n",
        "n_future = 5 # Number of future days to predict\n",
        "\n",
        "#training dataset\n",
        "train_data=scaled_data[0:train_data_len]\n",
        "x_train=[]\n",
        "y_train=[]\n",
        "\n",
        "for i in range(n_period, len(train_data) - n_future + 1):\n",
        "    x_train.append(train_data[i-n_period:i])\n",
        "    y_train.append(train_data[i: i+n_future,0])\n",
        "\n",
        "#Converting x_train to a numpy array and reshape\n",
        "\n",
        "x_train = np.array(x_train).reshape(-1, n_period, 2) #given we have two stocks(AMZN & GOOG)\n",
        "    \n"
      ]
    },
    {
      "cell_type": "code",
      "source": [
        "x_train[0:1]"
      ],
      "metadata": {
        "colab": {
          "base_uri": "https://localhost:8080/"
        },
        "id": "wXU39nmsyc5W",
        "outputId": "89aa19ea-5fb4-4f23-f810-3f6889623e0a"
      },
      "id": "wXU39nmsyc5W",
      "execution_count": null,
      "outputs": [
        {
          "output_type": "execute_result",
          "data": {
            "text/plain": [
              "array([[[0.00087189, 0.01936668],\n",
              "        [0.00044438, 0.01988927],\n",
              "        [0.00047251, 0.01820133],\n",
              "        [0.00187879, 0.01656439],\n",
              "        [0.0007397 , 0.01154608],\n",
              "        [0.00095908, 0.0116699 ],\n",
              "        [0.00083533, 0.01218339],\n",
              "        [0.        , 0.01285346],\n",
              "        [0.00070032, 0.01200676],\n",
              "        [0.0016116 , 0.01266045],\n",
              "        [0.00379977, 0.01344889],\n",
              "        [0.00520886, 0.01466158],\n",
              "        [0.00421884, 0.0049054 ],\n",
              "        [0.00285756, 0.00481982],\n",
              "        [0.0031135 , 0.00398405],\n",
              "        [0.00333851, 0.00190098],\n",
              "        [0.00489104, 0.00164788],\n",
              "        [0.00546762, 0.00381107],\n",
              "        [0.00456197, 0.00339409],\n",
              "        [0.00520605, 0.00383474],\n",
              "        [0.00099283, 0.00396584],\n",
              "        [0.00162847, 0.00474516],\n",
              "        [0.00330476, 0.00678818],\n",
              "        [0.00202785, 0.0091116 ],\n",
              "        [0.00232318, 0.00868915],\n",
              "        [0.00268599, 0.00924998],\n",
              "        [0.00254536, 0.00954313],\n",
              "        [0.00270287, 0.00853256],\n",
              "        [0.00440447, 0.00967788],\n",
              "        [0.0043229 , 0.00923359],\n",
              "        [0.00240193, 0.00846883],\n",
              "        [0.00112502, 0.00864363],\n",
              "        [0.00184785, 0.00830131],\n",
              "        [0.00178035, 0.01000563],\n",
              "        [0.00130784, 0.00890219],\n",
              "        [0.00083252, 0.00856898],\n",
              "        [0.00090002, 0.00925908],\n",
              "        [0.00073127, 0.00915165],\n",
              "        [0.00221348, 0.01080499],\n",
              "        [0.00105752, 0.01077951],\n",
              "        [0.00115596, 0.01153516],\n",
              "        [0.00094783, 0.01132576],\n",
              "        [0.00121783, 0.01005116],\n",
              "        [0.00145128, 0.00835958],\n",
              "        [0.00220505, 0.00869461],\n",
              "        [0.00329351, 0.00875653],\n",
              "        [0.00235973, 0.00750196],\n",
              "        [0.00209817, 0.00839417],\n",
              "        [0.00243567, 0.01069392],\n",
              "        [0.00178035, 0.01036799],\n",
              "        [0.00239068, 0.01130392],\n",
              "        [0.00256505, 0.01201587],\n",
              "        [0.00269724, 0.01364372],\n",
              "        [0.0046126 , 0.01355449],\n",
              "        [0.00444384, 0.01473623],\n",
              "        [0.00463228, 0.01584149],\n",
              "        [0.0053748 , 0.01521148],\n",
              "        [0.00757704, 0.01643874],\n",
              "        [0.00829986, 0.01601812],\n",
              "        [0.00709609, 0.01760955]]])"
            ]
          },
          "metadata": {},
          "execution_count": 311
        }
      ]
    },
    {
      "cell_type": "code",
      "execution_count": null,
      "id": "4bd0854f",
      "metadata": {
        "id": "4bd0854f",
        "colab": {
          "base_uri": "https://localhost:8080/"
        },
        "outputId": "27d35010-1f92-4ea4-9d49-5a16bcd08ce9"
      },
      "outputs": [
        {
          "output_type": "execute_result",
          "data": {
            "text/plain": [
              "[array([0.00806642, 0.00747578, 0.00622138, 0.0066742 , 0.00507948])]"
            ]
          },
          "metadata": {},
          "execution_count": 312
        }
      ],
      "source": [
        "y_train[0:1]"
      ]
    },
    {
      "cell_type": "code",
      "execution_count": null,
      "id": "367ff1f8",
      "metadata": {
        "id": "367ff1f8",
        "colab": {
          "base_uri": "https://localhost:8080/"
        },
        "outputId": "309fee21-9eb4-424f-dd7a-e4ebdb9c4bb1"
      },
      "outputs": [
        {
          "output_type": "execute_result",
          "data": {
            "text/plain": [
              "[array([0.00806642, 0.00747578, 0.00622138, 0.0066742 , 0.00507948]),\n",
              " array([0.00747578, 0.00622138, 0.0066742 , 0.00507948, 0.00519198])]"
            ]
          },
          "metadata": {},
          "execution_count": 313
        }
      ],
      "source": [
        "y_train[:2]"
      ]
    },
    {
      "cell_type": "code",
      "execution_count": null,
      "id": "5792e24f",
      "metadata": {
        "id": "5792e24f"
      },
      "outputs": [],
      "source": [
        "#Convert numpy array\n",
        "x_train, y_train=np.array(x_train), np.array(y_train)"
      ]
    },
    {
      "cell_type": "code",
      "execution_count": null,
      "id": "c7f71888",
      "metadata": {
        "id": "c7f71888",
        "colab": {
          "base_uri": "https://localhost:8080/"
        },
        "outputId": "e6b0f518-4458-4003-9087-959fe350d7a9"
      },
      "outputs": [
        {
          "output_type": "execute_result",
          "data": {
            "text/plain": [
              "(2172, 60, 2)"
            ]
          },
          "metadata": {},
          "execution_count": 315
        }
      ],
      "source": [
        "x_train.shape"
      ]
    },
    {
      "cell_type": "code",
      "source": [
        "y_train.shape"
      ],
      "metadata": {
        "colab": {
          "base_uri": "https://localhost:8080/"
        },
        "id": "eUv54JwC11Qu",
        "outputId": "e633ae8b-5b04-4128-a565-d1a1800f7b6e"
      },
      "id": "eUv54JwC11Qu",
      "execution_count": null,
      "outputs": [
        {
          "output_type": "execute_result",
          "data": {
            "text/plain": [
              "(2172, 5)"
            ]
          },
          "metadata": {},
          "execution_count": 316
        }
      ]
    },
    {
      "cell_type": "code",
      "execution_count": null,
      "id": "7248d31c",
      "metadata": {
        "id": "7248d31c",
        "colab": {
          "base_uri": "https://localhost:8080/"
        },
        "outputId": "5ae2fa34-3796-4f95-9b97-c9bc16bc19fd"
      },
      "outputs": [
        {
          "output_type": "execute_result",
          "data": {
            "text/plain": [
              "(2172, 60, 2)"
            ]
          },
          "metadata": {},
          "execution_count": 317
        }
      ],
      "source": [
        "x_train=np.reshape(x_train, (x_train.shape[0], x_train.shape[1],2))\n",
        "x_train.shape"
      ]
    },
    {
      "cell_type": "markdown",
      "id": "036d32be",
      "metadata": {
        "id": "036d32be"
      },
      "source": [
        "5. Train the model\n",
        "Adam optimization is a stochastic gradient descent method that is based on adaptive estimation of first-order and second-order moments.\n",
        "loss function is chosen as mean_squared_error'"
      ]
    },
    {
      "cell_type": "code",
      "execution_count": null,
      "id": "84704a94",
      "metadata": {
        "id": "84704a94"
      },
      "outputs": [],
      "source": [
        "#Build the LSTM model\n",
        "model=Sequential()\n",
        "model.add(LSTM(50,return_sequences=True, input_shape=(x_train.shape[1],2)))\n",
        "model.add(LSTM(50, return_sequences=False))\n",
        "model.add(Dense(25))\n",
        "model.add(Dense(1))\n",
        "          "
      ]
    },
    {
      "cell_type": "code",
      "execution_count": null,
      "id": "df48dce3",
      "metadata": {
        "id": "df48dce3"
      },
      "outputs": [],
      "source": [
        "model.compile(optimizer='adam', loss='mean_squared_error')"
      ]
    },
    {
      "cell_type": "code",
      "execution_count": null,
      "id": "7727d86b",
      "metadata": {
        "id": "7727d86b",
        "outputId": "63b8acb3-9e0f-4641-9a03-e3df7e19bafc",
        "colab": {
          "base_uri": "https://localhost:8080/"
        }
      },
      "outputs": [
        {
          "output_type": "stream",
          "name": "stdout",
          "text": [
            "2172/2172 [==============================] - 70s 31ms/step - loss: 0.0012\n"
          ]
        },
        {
          "output_type": "execute_result",
          "data": {
            "text/plain": [
              "<keras.callbacks.History at 0x7f50c4499570>"
            ]
          },
          "metadata": {},
          "execution_count": 320
        }
      ],
      "source": [
        "model.fit(x_train,y_train, batch_size=1, epochs=1)"
      ]
    },
    {
      "cell_type": "code",
      "execution_count": null,
      "id": "fdf309a5",
      "metadata": {
        "id": "fdf309a5"
      },
      "outputs": [],
      "source": [
        "#Test\n",
        "\n",
        "# Extract the portion of the test data for prediction\n",
        "test_data=scaled_data[train_data_len-60:,:]\n",
        "\n",
        "# Prepare the test inputs (similar to training)\n",
        "x_test = []\n",
        "y_test = []\n",
        "\n",
        "for i in range(n_period, len(test_data) - n_future + 1):\n",
        "    x_test.append(test_data[i-n_period:i])\n",
        "    y_test.append(test_data[i:i+n_future, 0])\n",
        "\n",
        "# Convert x_test to numpy array and reshape\n",
        "x_test = np.array(x_test).reshape(-1, n_period, 2)  # Assuming I have 2 features (AMZN, GOOG)"
      ]
    },
    {
      "cell_type": "code",
      "execution_count": null,
      "id": "f19dcf96",
      "metadata": {
        "id": "f19dcf96",
        "outputId": "f40753ef-a238-4425-ac59-e583be46c6ba",
        "colab": {
          "base_uri": "https://localhost:8080/"
        }
      },
      "outputs": [
        {
          "output_type": "execute_result",
          "data": {
            "text/plain": [
              "(555, 60, 2)"
            ]
          },
          "metadata": {},
          "execution_count": 322
        }
      ],
      "source": [
        "x_test.shape"
      ]
    },
    {
      "cell_type": "markdown",
      "id": "0a8c4341",
      "metadata": {
        "id": "0a8c4341"
      },
      "source": [
        "6. Prediction error"
      ]
    },
    {
      "cell_type": "code",
      "source": [
        "scaled_data"
      ],
      "metadata": {
        "colab": {
          "base_uri": "https://localhost:8080/"
        },
        "id": "fRYUOW7dtrRd",
        "outputId": "147e6729-1c62-4dbc-9c59-aea968b03feb"
      },
      "id": "fRYUOW7dtrRd",
      "execution_count": null,
      "outputs": [
        {
          "output_type": "execute_result",
          "data": {
            "text/plain": [
              "array([[8.71892048e-04, 1.93666841e-02],\n",
              "       [4.44381751e-04, 1.98892687e-02],\n",
              "       [4.72507993e-04, 1.82013303e-02],\n",
              "       ...,\n",
              "       [5.24899607e-01, 6.88057775e-01],\n",
              "       [5.13311875e-01, 6.29279368e-01],\n",
              "       [5.03130379e-01, 5.96088573e-01]])"
            ]
          },
          "metadata": {},
          "execution_count": 323
        }
      ]
    },
    {
      "cell_type": "code",
      "source": [
        "scaler.data_max_"
      ],
      "metadata": {
        "colab": {
          "base_uri": "https://localhost:8080/"
        },
        "id": "FXn0vTvKt3vB",
        "outputId": "f54072c7-1c2b-40da-be80-d1992567ba22"
      },
      "id": "FXn0vTvKt3vB",
      "execution_count": null,
      "outputs": [
        {
          "output_type": "execute_result",
          "data": {
            "text/plain": [
              "array([186.57049561, 150.70899963])"
            ]
          },
          "metadata": {},
          "execution_count": 324
        }
      ]
    },
    {
      "cell_type": "code",
      "source": [
        "scaler.data_min_"
      ],
      "metadata": {
        "colab": {
          "base_uri": "https://localhost:8080/"
        },
        "id": "2IVXL1Ch6oNN",
        "outputId": "0abd257e-60b3-4bb5-b6c8-81b97a72c33e"
      },
      "id": "2IVXL1Ch6oNN",
      "execution_count": null,
      "outputs": [
        {
          "output_type": "execute_result",
          "data": {
            "text/plain": [
              "array([ 8.79650021, 13.92405891])"
            ]
          },
          "metadata": {},
          "execution_count": 325
        }
      ]
    },
    {
      "cell_type": "code",
      "execution_count": null,
      "id": "c8e158a5",
      "metadata": {
        "id": "c8e158a5",
        "colab": {
          "base_uri": "https://localhost:8080/"
        },
        "outputId": "f7bd84b1-7a3c-4dee-ffca-8fdc3e91e6a3"
      },
      "outputs": [
        {
          "output_type": "stream",
          "name": "stdout",
          "text": [
            "18/18 [==============================] - 1s 19ms/step\n"
          ]
        }
      ],
      "source": [
        "predictions_scaled=model.predict(x_test)"
      ]
    },
    {
      "cell_type": "code",
      "execution_count": null,
      "id": "6e106d69",
      "metadata": {
        "id": "6e106d69"
      },
      "outputs": [],
      "source": [
        "#predictions=scaler.inverse_transform(predictions)\n",
        "predictions=predictions_scaled*(scaler.data_max_[0]-scaler.data_min_[0])+scaler.data_min_[0]"
      ]
    },
    {
      "cell_type": "code",
      "execution_count": null,
      "id": "0e231af7",
      "metadata": {
        "id": "0e231af7",
        "colab": {
          "base_uri": "https://localhost:8080/"
        },
        "outputId": "f5195cfc-dbe1-4e9a-d8b1-d7a4b1cb129a"
      },
      "outputs": [
        {
          "output_type": "execute_result",
          "data": {
            "text/plain": [
              "(555, 1)"
            ]
          },
          "metadata": {},
          "execution_count": 328
        }
      ],
      "source": [
        "predictions.shape"
      ]
    },
    {
      "cell_type": "code",
      "execution_count": null,
      "id": "19766298",
      "metadata": {
        "id": "19766298",
        "colab": {
          "base_uri": "https://localhost:8080/"
        },
        "outputId": "e88fc2b1-6d5f-43c2-aa61-f5526e0be41e"
      },
      "outputs": [
        {
          "output_type": "execute_result",
          "data": {
            "text/plain": [
              "126.95888439042683"
            ]
          },
          "metadata": {},
          "execution_count": 329
        }
      ],
      "source": [
        "#RMSE\n",
        "rmse=np.sqrt(np.mean(predictions-y_test)**2)\n",
        "rmse"
      ]
    },
    {
      "cell_type": "code",
      "source": [
        "data.max()"
      ],
      "metadata": {
        "colab": {
          "base_uri": "https://localhost:8080/"
        },
        "id": "k_m2-0gRC3JE",
        "outputId": "c8a26d06-4e66-43e8-f414-7c465ca47789"
      },
      "id": "k_m2-0gRC3JE",
      "execution_count": null,
      "outputs": [
        {
          "output_type": "execute_result",
          "data": {
            "text/plain": [
              "AMZN    186.570496\n",
              "GOOG    150.709000\n",
              "dtype: float64"
            ]
          },
          "metadata": {},
          "execution_count": 330
        }
      ]
    },
    {
      "cell_type": "code",
      "execution_count": null,
      "id": "f2fa0949",
      "metadata": {
        "id": "f2fa0949",
        "colab": {
          "base_uri": "https://localhost:8080/",
          "height": 597
        },
        "outputId": "c59d7a72-2e07-4c2b-c7e0-244e46d5e6d8"
      },
      "outputs": [
        {
          "output_type": "display_data",
          "data": {
            "text/plain": [
              "<Figure size 1200x800 with 1 Axes>"
            ],
            "image/png": "[encoded data removed]"
          },
          "metadata": {}
        }
      ],
      "source": [
        "#plot the result\n",
        "train=data[:train_data_len]\n",
        "valid=data[train_data_len: train_data_len + len(predictions)]\n",
        "valid=valid.assign(Predictions=predictions)\n",
        "plt.figure(figsize=(12,8))\n",
        "plt.title('Model')\n",
        "plt.xlabel('Date')\n",
        "plt.ylabel('Stock Price ($)')\n",
        "plt.plot(train, lw=1)\n",
        "plt.plot(valid[['AMZN','Predictions']], lw=1)\n",
        "plt.legend(['Train-AMZN','Train-GOOG', 'Validation', 'Prediction'],loc='lower right')\n",
        "plt.show()"
      ]
    },
    {
      "cell_type": "code",
      "execution_count": null,
      "id": "5a077d2e",
      "metadata": {
        "id": "5a077d2e",
        "colab": {
          "base_uri": "https://localhost:8080/",
          "height": 591
        },
        "outputId": "7bb8ad35-d1da-4354-bef9-1559423b4992"
      },
      "outputs": [
        {
          "output_type": "execute_result",
          "data": {
            "text/plain": [
              "<matplotlib.legend.Legend at 0x7f50c4a0cfd0>"
            ]
          },
          "metadata": {},
          "execution_count": 332
        },
        {
          "output_type": "display_data",
          "data": {
            "text/plain": [
              "<Figure size 1200x800 with 1 Axes>"
            ],
            "image/png": "[encoded data removed]"
          },
          "metadata": {}
        }
      ],
      "source": [
        "plt.figure(figsize=(12,8))\n",
        "plt.plot(valid[['AMZN','Predictions']], lw=1)\n",
        "plt.legend(['Validation', 'Prediction'])"
      ]
    },
    {
      "cell_type": "markdown",
      "id": "dac861c9",
      "metadata": {
        "id": "dac861c9"
      },
      "source": [
        "\n",
        "Question: In the example, we use the last 60 day's price to predict the closing price for next day.  Modify the program to perform the following task:\n",
        "\n",
        "a. Use past 60 days price to predict the price in one week (5 days). You can choose any stock. Also use two indices prices for input\n",
        "\n",
        "b. Use your prediction to generate trading signals for the testing periodd (20% of you dataset):  if the predicted price is higher than the current price (you can specify a threshold) , you should buy one share; if it is lower than the current price, you can short one share.\n",
        "\n",
        "c. Assume that you will always close your position in onw week, caculate your accumaltaed PnL for testing data\n",
        "\n",
        "d. Repeat. a) - c), adding S&P500 to the features for the prediction (as I explained in the class).\n",
        "\n",
        "e. Repeat: a)-c), adding S&P 500 and the VIX index to the features for the predcition( as explained in class)."
      ]
    },
    {
      "cell_type": "markdown",
      "source": [
        "a. Use past 60 days price to predict the price in one week (5 days). You can choose any stock. "
      ],
      "metadata": {
        "id": "bKv1UXKaBJDo"
      },
      "id": "bKv1UXKaBJDo"
    },
    {
      "cell_type": "code",
      "source": [
        "amzn_predicted_prices = predictions[-n_future:, 0]  # Selecting only the AMZN stock predictions\n",
        "for i, price in enumerate(amzn_predicted_prices, start=1):\n",
        "    print(f\"Day {i}: Predicted price for AMZN stock: {price}\")"
      ],
      "metadata": {
        "colab": {
          "base_uri": "https://localhost:8080/"
        },
        "id": "BDsWacpO4q7l",
        "outputId": "270bc90b-2759-4ab2-9008-b9a7b80cf404"
      },
      "id": "BDsWacpO4q7l",
      "execution_count": null,
      "outputs": [
        {
          "output_type": "stream",
          "name": "stdout",
          "text": [
            "Day 1: Predicted price for AMZN stock: 87.11370849609375\n",
            "Day 2: Predicted price for AMZN stock: 87.70365905761719\n",
            "Day 3: Predicted price for AMZN stock: 88.45941925048828\n",
            "Day 4: Predicted price for AMZN stock: 89.42697143554688\n",
            "Day 5: Predicted price for AMZN stock: 91.20911407470703\n"
          ]
        }
      ]
    },
    {
      "cell_type": "markdown",
      "source": [
        "b. Use your prediction to generate trading signals for the testing periodd (20% of you dataset): if the predicted price is higher than the current price (you can specify a threshold) , you should buy one share; if it is lower than the current price, you can short one share."
      ],
      "metadata": {
        "id": "EhmxQlsR5dpv"
      },
      "id": "EhmxQlsR5dpv"
    },
    {
      "cell_type": "markdown",
      "source": [
        "ASSUMPTION: WILL BE USING THE AMZN STOCK FOR THIS"
      ],
      "metadata": {
        "id": "AuzppX0B6D-h"
      },
      "id": "AuzppX0B6D-h"
    },
    {
      "cell_type": "code",
      "source": [
        "# Extract the 'Close' price for the AMZN stock\n",
        "amzn_prices = df['Close']['AMZN']\n",
        "\n",
        "# Get the current price\n",
        "amzn_current_prices = amzn_prices.iloc[-1]\n",
        "\n",
        "print(\"Current Price @ AMZN: $\", amzn_current_prices)"
      ],
      "metadata": {
        "colab": {
          "base_uri": "https://localhost:8080/"
        },
        "id": "INb0RbJw6noS",
        "outputId": "9126ea40-8c52-473b-e0db-68fc86067643"
      },
      "id": "INb0RbJw6noS",
      "execution_count": null,
      "outputs": [
        {
          "output_type": "stream",
          "name": "stdout",
          "text": [
            "Current Price @ AMZN: $ 98.23999786376953\n"
          ]
        }
      ]
    },
    {
      "cell_type": "code",
      "source": [
        "threshold = 0.05 #the threshold has been specified as 5% movement up or down # assumption\n",
        "\n",
        "#getting the last n_future predictions\n",
        "\n",
        "amzn_predicted_prices = predictions[-n_future:,0]\n",
        "\n",
        "#replicating current prices to match the length of predicted prices\n",
        "\n",
        "amzn_current_price = np.full(amzn_predicted_prices.shape, amzn_current_prices)\n",
        "\n",
        "# Loop through the predicted prices and generate trading signals\n",
        "\n",
        "for i, amzn_predicted_price in enumerate(amzn_predicted_prices, start=1):\n",
        "\n",
        "    if np.any(amzn_predicted_price > amzn_current_price * (1 + threshold)):\n",
        "\n",
        "        # Buy one share\n",
        "\n",
        "        print(\"Buy one share on day\", i)\n",
        "\n",
        "    elif np.any (amzn_predicted_price < amzn_current_price * (1 - threshold)):\n",
        "\n",
        "        # Short one share\n",
        "\n",
        "        print(\"Short one share on day\", i)\n",
        "\n",
        "    else:\n",
        "\n",
        "        # Hold or take no action\n",
        "        \n",
        "        print(\"Hold or take no action on day\", i)\n",
        "\n",
        "\n",
        "\n",
        "\n"
      ],
      "metadata": {
        "colab": {
          "base_uri": "https://localhost:8080/"
        },
        "id": "UxHjvtc37RQh",
        "outputId": "022c85b0-6fa2-4047-9694-afb7ab75f2ee"
      },
      "id": "UxHjvtc37RQh",
      "execution_count": null,
      "outputs": [
        {
          "output_type": "stream",
          "name": "stdout",
          "text": [
            "Short one share on day 1\n",
            "Short one share on day 2\n",
            "Short one share on day 3\n",
            "Short one share on day 4\n",
            "Short one share on day 5\n"
          ]
        }
      ]
    },
    {
      "cell_type": "markdown",
      "source": [
        "c. Assume that you will always close your position in one week, calculate your accumaltaed PnL for testing data"
      ],
      "metadata": {
        "id": "uQQLVXpEEXHJ"
      },
      "id": "uQQLVXpEEXHJ"
    },
    {
      "cell_type": "code",
      "source": [
        "# Initialize variables\n",
        "position = 0\n",
        "\n",
        "capital = 10000  # Starting capital\n",
        "\n",
        "pnls = []\n",
        "\n",
        "# Loop through the testing period\n",
        "\n",
        "for i, amzn_predicted_price in enumerate(amzn_predicted_prices, start=1):\n",
        "\n",
        "    # Check trading signal\n",
        "\n",
        "    if np.any(amzn_predicted_price > amzn_current_price * (1 + threshold)):\n",
        "\n",
        "        # Buy one share\n",
        "\n",
        "        if np.any(position == 0):\n",
        "\n",
        "            shares_to_buy = capital // amzn_current_price\n",
        "\n",
        "            position += shares_to_buy\n",
        "\n",
        "            capital -= shares_to_buy * amzn_current_price\n",
        "            \n",
        "    elif np.any(amzn_predicted_price < amzn_current_price * (1 - threshold)):\n",
        "        # Short one share\n",
        "        if np.any(position > 0):\n",
        "            shares_to_sell = position\n",
        "            position -= shares_to_sell\n",
        "            capital += shares_to_sell * amzn_current_price\n",
        "\n",
        "    # Calculate PnL for current trade\n",
        "    pnl = (position * amzn_current_price) - 10000\n",
        "    pnls.append(pnl)\n",
        "\n",
        "# Calculate accumulated PnL\n",
        "accumulated_pnl = np.sum(pnls)\n",
        "\n",
        "print(\"Accumulated PnL:\", accumulated_pnl)\n"
      ],
      "metadata": {
        "colab": {
          "base_uri": "https://localhost:8080/"
        },
        "id": "yAQWLWVnH0CI",
        "outputId": "808dcfa0-fa9c-4128-af7e-9b36f142dc79"
      },
      "id": "yAQWLWVnH0CI",
      "execution_count": null,
      "outputs": [
        {
          "output_type": "stream",
          "name": "stdout",
          "text": [
            "Accumulated PnL: -250000.0\n"
          ]
        }
      ]
    },
    {
      "cell_type": "markdown",
      "source": [
        "d. Repeat. a) - c), adding S&P500 to the features for the prediction (as I explained in the class)."
      ],
      "metadata": {
        "id": "DyRYf5vNi7X3"
      },
      "id": "DyRYf5vNi7X3"
    },
    {
      "cell_type": "code",
      "source": [
        "#Starting all over\n",
        "\n",
        "tickers = [\"^GSPC\"]\n",
        "\n",
        "start_date = '2012-01-01'\n",
        "end_date = '2023-02-10'\n",
        "\n",
        "df = yf.download(tickers, start=start_date, end=end_date)"
      ],
      "metadata": {
        "colab": {
          "base_uri": "https://localhost:8080/"
        },
        "id": "TvT_3myKqUPJ",
        "outputId": "5ec32865-317d-4b6c-efe5-6822d2cce1ea"
      },
      "id": "TvT_3myKqUPJ",
      "execution_count": null,
      "outputs": [
        {
          "output_type": "stream",
          "name": "stdout",
          "text": [
            "\r[*********************100%***********************]  1 of 1 completed\n"
          ]
        }
      ]
    },
    {
      "cell_type": "code",
      "source": [
        "df"
      ],
      "metadata": {
        "colab": {
          "base_uri": "https://localhost:8080/",
          "height": 455
        },
        "id": "B8sjBl9KjamV",
        "outputId": "00fd5869-7635-4504-b464-1037a137fc12"
      },
      "id": "B8sjBl9KjamV",
      "execution_count": null,
      "outputs": [
        {
          "output_type": "execute_result",
          "data": {
            "text/plain": [
              "                   Open         High          Low        Close    Adj Close  \\\n",
              "Date                                                                          \n",
              "2012-01-03  1258.859985  1284.619995  1258.859985  1277.060059  1277.060059   \n",
              "2012-01-04  1277.030029  1278.729980  1268.099976  1277.300049  1277.300049   \n",
              "2012-01-05  1277.300049  1283.050049  1265.260010  1281.060059  1281.060059   \n",
              "2012-01-06  1280.930054  1281.839966  1273.339966  1277.810059  1277.810059   \n",
              "2012-01-09  1277.829956  1281.989990  1274.550049  1280.699951  1280.699951   \n",
              "...                 ...          ...          ...          ...          ...   \n",
              "2023-02-03  4136.689941  4182.359863  4123.359863  4136.479980  4136.479980   \n",
              "2023-02-06  4119.569824  4124.629883  4093.379883  4111.080078  4111.080078   \n",
              "2023-02-07  4105.350098  4176.540039  4088.389893  4164.000000  4164.000000   \n",
              "2023-02-08  4153.470215  4156.850098  4111.669922  4117.859863  4117.859863   \n",
              "2023-02-09  4144.250000  4156.229980  4069.669922  4081.500000  4081.500000   \n",
              "\n",
              "                Volume  \n",
              "Date                    \n",
              "2012-01-03  3943710000  \n",
              "2012-01-04  3592580000  \n",
              "2012-01-05  4315950000  \n",
              "2012-01-06  3656830000  \n",
              "2012-01-09  3371600000  \n",
              "...                ...  \n",
              "2023-02-03  4694510000  \n",
              "2023-02-06  4114240000  \n",
              "2023-02-07  4355860000  \n",
              "2023-02-08  4029820000  \n",
              "2023-02-09  4270200000  \n",
              "\n",
              "[2795 rows x 6 columns]"
            ],
            "text/html": [
              "\n",
              "  <div id=\"df-be7ed1ed-dddb-4386-ba81-703428490fba\">\n",
              "    <div class=\"colab-df-container\">\n",
              "      <div>\n",
              "<style scoped>\n",
              "    .dataframe tbody tr th:only-of-type {\n",
              "        vertical-align: middle;\n",
              "    }\n",
              "\n",
              "    .dataframe tbody tr th {\n",
              "        vertical-align: top;\n",
              "    }\n",
              "\n",
              "    .dataframe thead th {\n",
              "        text-align: right;\n",
              "    }\n",
              "</style>\n",
              "<table border=\"1\" class=\"dataframe\">\n",
              "  <thead>\n",
              "    <tr style=\"text-align: right;\">\n",
              "      <th></th>\n",
              "      <th>Open</th>\n",
              "      <th>High</th>\n",
              "      <th>Low</th>\n",
              "      <th>Close</th>\n",
              "      <th>Adj Close</th>\n",
              "      <th>Volume</th>\n",
              "    </tr>\n",
              "    <tr>\n",
              "      <th>Date</th>\n",
              "      <th></th>\n",
              "      <th></th>\n",
              "      <th></th>\n",
              "      <th></th>\n",
              "      <th></th>\n",
              "      <th></th>\n",
              "    </tr>\n",
              "  </thead>\n",
              "  <tbody>\n",
              "    <tr>\n",
              "      <th>2012-01-03</th>\n",
              "      <td>1258.859985</td>\n",
              "      <td>1284.619995</td>\n",
              "      <td>1258.859985</td>\n",
              "      <td>1277.060059</td>\n",
              "      <td>1277.060059</td>\n",
              "      <td>3943710000</td>\n",
              "    </tr>\n",
              "    <tr>\n",
              "      <th>2012-01-04</th>\n",
              "      <td>1277.030029</td>\n",
              "      <td>1278.729980</td>\n",
              "      <td>1268.099976</td>\n",
              "      <td>1277.300049</td>\n",
              "      <td>1277.300049</td>\n",
              "      <td>3592580000</td>\n",
              "    </tr>\n",
              "    <tr>\n",
              "      <th>2012-01-05</th>\n",
              "      <td>1277.300049</td>\n",
              "      <td>1283.050049</td>\n",
              "      <td>1265.260010</td>\n",
              "      <td>1281.060059</td>\n",
              "      <td>1281.060059</td>\n",
              "      <td>4315950000</td>\n",
              "    </tr>\n",
              "    <tr>\n",
              "      <th>2012-01-06</th>\n",
              "      <td>1280.930054</td>\n",
              "      <td>1281.839966</td>\n",
              "      <td>1273.339966</td>\n",
              "      <td>1277.810059</td>\n",
              "      <td>1277.810059</td>\n",
              "      <td>3656830000</td>\n",
              "    </tr>\n",
              "    <tr>\n",
              "      <th>2012-01-09</th>\n",
              "      <td>1277.829956</td>\n",
              "      <td>1281.989990</td>\n",
              "      <td>1274.550049</td>\n",
              "      <td>1280.699951</td>\n",
              "      <td>1280.699951</td>\n",
              "      <td>3371600000</td>\n",
              "    </tr>\n",
              "    <tr>\n",
              "      <th>...</th>\n",
              "      <td>...</td>\n",
              "      <td>...</td>\n",
              "      <td>...</td>\n",
              "      <td>...</td>\n",
              "      <td>...</td>\n",
              "      <td>...</td>\n",
              "    </tr>\n",
              "    <tr>\n",
              "      <th>2023-02-03</th>\n",
              "      <td>4136.689941</td>\n",
              "      <td>4182.359863</td>\n",
              "      <td>4123.359863</td>\n",
              "      <td>4136.479980</td>\n",
              "      <td>4136.479980</td>\n",
              "      <td>4694510000</td>\n",
              "    </tr>\n",
              "    <tr>\n",
              "      <th>2023-02-06</th>\n",
              "      <td>4119.569824</td>\n",
              "      <td>4124.629883</td>\n",
              "      <td>4093.379883</td>\n",
              "      <td>4111.080078</td>\n",
              "      <td>4111.080078</td>\n",
              "      <td>4114240000</td>\n",
              "    </tr>\n",
              "    <tr>\n",
              "      <th>2023-02-07</th>\n",
              "      <td>4105.350098</td>\n",
              "      <td>4176.540039</td>\n",
              "      <td>4088.389893</td>\n",
              "      <td>4164.000000</td>\n",
              "      <td>4164.000000</td>\n",
              "      <td>4355860000</td>\n",
              "    </tr>\n",
              "    <tr>\n",
              "      <th>2023-02-08</th>\n",
              "      <td>4153.470215</td>\n",
              "      <td>4156.850098</td>\n",
              "      <td>4111.669922</td>\n",
              "      <td>4117.859863</td>\n",
              "      <td>4117.859863</td>\n",
              "      <td>4029820000</td>\n",
              "    </tr>\n",
              "    <tr>\n",
              "      <th>2023-02-09</th>\n",
              "      <td>4144.250000</td>\n",
              "      <td>4156.229980</td>\n",
              "      <td>4069.669922</td>\n",
              "      <td>4081.500000</td>\n",
              "      <td>4081.500000</td>\n",
              "      <td>4270200000</td>\n",
              "    </tr>\n",
              "  </tbody>\n",
              "</table>\n",
              "<p>2795 rows × 6 columns</p>\n",
              "</div>\n",
              "      <button class=\"colab-df-convert\" onclick=\"convertToInteractive('df-be7ed1ed-dddb-4386-ba81-703428490fba')\"\n",
              "              title=\"Convert this dataframe to an interactive table.\"\n",
              "              style=\"display:none;\">\n",
              "        \n",
              "  <svg xmlns=\"http://www.w3.org/2000/svg\" height=\"24px\"viewBox=\"0 0 24 24\"\n",
              "       width=\"24px\">\n",
              "    <path d=\"M0 0h24v24H0V0z\" fill=\"none\"/>\n",
              "    <path d=\"M18.56 5.44l.94 2.06.94-2.06 2.06-.94-2.06-.94-.94-2.06-.94 2.06-2.06.94zm-11 1L8.5 8.5l.94-2.06 2.06-.94-2.06-.94L8.5 2.5l-.94 2.06-2.06.94zm10 10l.94 2.06.94-2.06 2.06-.94-2.06-.94-.94-2.06-.94 2.06-2.06.94z\"/><path d=\"M17.41 7.96l-1.37-1.37c-.4-.4-.92-.59-1.43-.59-.52 0-1.04.2-1.43.59L10.3 9.45l-7.72 7.72c-.78.78-.78 2.05 0 2.83L4 21.41c.39.39.9.59 1.41.59.51 0 1.02-.2 1.41-.59l7.78-7.78 2.81-2.81c.8-.78.8-2.07 0-2.86zM5.41 20L4 18.59l7.72-7.72 1.47 1.35L5.41 20z\"/>\n",
              "  </svg>\n",
              "      </button>\n",
              "      \n",
              "  <style>\n",
              "    .colab-df-container {\n",
              "      display:flex;\n",
              "      flex-wrap:wrap;\n",
              "      gap: 12px;\n",
              "    }\n",
              "\n",
              "    .colab-df-convert {\n",
              "      background-color: #E8F0FE;\n",
              "      border: none;\n",
              "      border-radius: 50%;\n",
              "      cursor: pointer;\n",
              "      display: none;\n",
              "      fill: #1967D2;\n",
              "      height: 32px;\n",
              "      padding: 0 0 0 0;\n",
              "      width: 32px;\n",
              "    }\n",
              "\n",
              "    .colab-df-convert:hover {\n",
              "      background-color: #E2EBFA;\n",
              "      box-shadow: 0px 1px 2px rgba(60, 64, 67, 0.3), 0px 1px 3px 1px rgba(60, 64, 67, 0.15);\n",
              "      fill: #174EA6;\n",
              "    }\n",
              "\n",
              "    [theme=dark] .colab-df-convert {\n",
              "      background-color: #3B4455;\n",
              "      fill: #D2E3FC;\n",
              "    }\n",
              "\n",
              "    [theme=dark] .colab-df-convert:hover {\n",
              "      background-color: #434B5C;\n",
              "      box-shadow: 0px 1px 3px 1px rgba(0, 0, 0, 0.15);\n",
              "      filter: drop-shadow(0px 1px 2px rgba(0, 0, 0, 0.3));\n",
              "      fill: #FFFFFF;\n",
              "    }\n",
              "  </style>\n",
              "\n",
              "      <script>\n",
              "        const buttonEl =\n",
              "          document.querySelector('#df-be7ed1ed-dddb-4386-ba81-703428490fba button.colab-df-convert');\n",
              "        buttonEl.style.display =\n",
              "          google.colab.kernel.accessAllowed ? 'block' : 'none';\n",
              "\n",
              "        async function convertToInteractive(key) {\n",
              "          const element = document.querySelector('#df-be7ed1ed-dddb-4386-ba81-703428490fba');\n",
              "          const dataTable =\n",
              "            await google.colab.kernel.invokeFunction('convertToInteractive',\n",
              "                                                     [key], {});\n",
              "          if (!dataTable) return;\n",
              "\n",
              "          const docLinkHtml = 'Like what you see? Visit the ' +\n",
              "            '<a target=\"_blank\" href=https://colab.research.google.com/notebooks/data_table.ipynb>data table notebook</a>'\n",
              "            + ' to learn more about interactive tables.';\n",
              "          element.innerHTML = '';\n",
              "          dataTable['output_type'] = 'display_data';\n",
              "          await google.colab.output.renderOutput(dataTable, element);\n",
              "          const docLink = document.createElement('div');\n",
              "          docLink.innerHTML = docLinkHtml;\n",
              "          element.appendChild(docLink);\n",
              "        }\n",
              "      </script>\n",
              "    </div>\n",
              "  </div>\n",
              "  "
            ]
          },
          "metadata": {},
          "execution_count": 354
        }
      ]
    },
    {
      "cell_type": "code",
      "source": [
        "df.shape"
      ],
      "metadata": {
        "colab": {
          "base_uri": "https://localhost:8080/"
        },
        "id": "AmWAJBgylh7H",
        "outputId": "0f5af991-3535-4a6c-bf1e-df133093a7fd"
      },
      "id": "AmWAJBgylh7H",
      "execution_count": null,
      "outputs": [
        {
          "output_type": "execute_result",
          "data": {
            "text/plain": [
              "(2795, 6)"
            ]
          },
          "metadata": {},
          "execution_count": 355
        }
      ]
    },
    {
      "cell_type": "code",
      "source": [
        "df[\"Close\"].tail(10)"
      ],
      "metadata": {
        "colab": {
          "base_uri": "https://localhost:8080/"
        },
        "id": "GNyOFoTwlk7S",
        "outputId": "9daf1d9c-7b03-4cee-ee7a-04201e03b789"
      },
      "id": "GNyOFoTwlk7S",
      "execution_count": null,
      "outputs": [
        {
          "output_type": "execute_result",
          "data": {
            "text/plain": [
              "Date\n",
              "2023-01-27    4070.560059\n",
              "2023-01-30    4017.770020\n",
              "2023-01-31    4076.600098\n",
              "2023-02-01    4119.209961\n",
              "2023-02-02    4179.759766\n",
              "2023-02-03    4136.479980\n",
              "2023-02-06    4111.080078\n",
              "2023-02-07    4164.000000\n",
              "2023-02-08    4117.859863\n",
              "2023-02-09    4081.500000\n",
              "Name: Close, dtype: float64"
            ]
          },
          "metadata": {},
          "execution_count": 356
        }
      ]
    },
    {
      "cell_type": "code",
      "source": [
        "df[\"Adj Close\"]"
      ],
      "metadata": {
        "colab": {
          "base_uri": "https://localhost:8080/"
        },
        "id": "7DvRuJ9FmiQW",
        "outputId": "46ee8f42-cf1a-4d6e-8f07-404f59c26ec4"
      },
      "id": "7DvRuJ9FmiQW",
      "execution_count": null,
      "outputs": [
        {
          "output_type": "execute_result",
          "data": {
            "text/plain": [
              "Date\n",
              "2012-01-03    1277.060059\n",
              "2012-01-04    1277.300049\n",
              "2012-01-05    1281.060059\n",
              "2012-01-06    1277.810059\n",
              "2012-01-09    1280.699951\n",
              "                 ...     \n",
              "2023-02-03    4136.479980\n",
              "2023-02-06    4111.080078\n",
              "2023-02-07    4164.000000\n",
              "2023-02-08    4117.859863\n",
              "2023-02-09    4081.500000\n",
              "Name: Adj Close, Length: 2795, dtype: float64"
            ]
          },
          "metadata": {},
          "execution_count": 357
        }
      ]
    },
    {
      "cell_type": "code",
      "source": [
        "sp500_prices = df[[\"Close\",\"Adj Close\"]]"
      ],
      "metadata": {
        "id": "jju-Mcn5jonn"
      },
      "id": "jju-Mcn5jonn",
      "execution_count": null,
      "outputs": []
    },
    {
      "cell_type": "code",
      "source": [
        "sp500_prices.head()"
      ],
      "metadata": {
        "colab": {
          "base_uri": "https://localhost:8080/",
          "height": 238
        },
        "id": "K_XGvsTKj69y",
        "outputId": "32c1de1b-88f2-46db-86df-73e60a12e62e"
      },
      "id": "K_XGvsTKj69y",
      "execution_count": null,
      "outputs": [
        {
          "output_type": "execute_result",
          "data": {
            "text/plain": [
              "                  Close    Adj Close\n",
              "Date                                \n",
              "2012-01-03  1277.060059  1277.060059\n",
              "2012-01-04  1277.300049  1277.300049\n",
              "2012-01-05  1281.060059  1281.060059\n",
              "2012-01-06  1277.810059  1277.810059\n",
              "2012-01-09  1280.699951  1280.699951"
            ],
            "text/html": [
              "\n",
              "  <div id=\"df-a9f261a2-a1fb-4cfa-818f-50497c751b38\">\n",
              "    <div class=\"colab-df-container\">\n",
              "      <div>\n",
              "<style scoped>\n",
              "    .dataframe tbody tr th:only-of-type {\n",
              "        vertical-align: middle;\n",
              "    }\n",
              "\n",
              "    .dataframe tbody tr th {\n",
              "        vertical-align: top;\n",
              "    }\n",
              "\n",
              "    .dataframe thead th {\n",
              "        text-align: right;\n",
              "    }\n",
              "</style>\n",
              "<table border=\"1\" class=\"dataframe\">\n",
              "  <thead>\n",
              "    <tr style=\"text-align: right;\">\n",
              "      <th></th>\n",
              "      <th>Close</th>\n",
              "      <th>Adj Close</th>\n",
              "    </tr>\n",
              "    <tr>\n",
              "      <th>Date</th>\n",
              "      <th></th>\n",
              "      <th></th>\n",
              "    </tr>\n",
              "  </thead>\n",
              "  <tbody>\n",
              "    <tr>\n",
              "      <th>2012-01-03</th>\n",
              "      <td>1277.060059</td>\n",
              "      <td>1277.060059</td>\n",
              "    </tr>\n",
              "    <tr>\n",
              "      <th>2012-01-04</th>\n",
              "      <td>1277.300049</td>\n",
              "      <td>1277.300049</td>\n",
              "    </tr>\n",
              "    <tr>\n",
              "      <th>2012-01-05</th>\n",
              "      <td>1281.060059</td>\n",
              "      <td>1281.060059</td>\n",
              "    </tr>\n",
              "    <tr>\n",
              "      <th>2012-01-06</th>\n",
              "      <td>1277.810059</td>\n",
              "      <td>1277.810059</td>\n",
              "    </tr>\n",
              "    <tr>\n",
              "      <th>2012-01-09</th>\n",
              "      <td>1280.699951</td>\n",
              "      <td>1280.699951</td>\n",
              "    </tr>\n",
              "  </tbody>\n",
              "</table>\n",
              "</div>\n",
              "      <button class=\"colab-df-convert\" onclick=\"convertToInteractive('df-a9f261a2-a1fb-4cfa-818f-50497c751b38')\"\n",
              "              title=\"Convert this dataframe to an interactive table.\"\n",
              "              style=\"display:none;\">\n",
              "        \n",
              "  <svg xmlns=\"http://www.w3.org/2000/svg\" height=\"24px\"viewBox=\"0 0 24 24\"\n",
              "       width=\"24px\">\n",
              "    <path d=\"M0 0h24v24H0V0z\" fill=\"none\"/>\n",
              "    <path d=\"M18.56 5.44l.94 2.06.94-2.06 2.06-.94-2.06-.94-.94-2.06-.94 2.06-2.06.94zm-11 1L8.5 8.5l.94-2.06 2.06-.94-2.06-.94L8.5 2.5l-.94 2.06-2.06.94zm10 10l.94 2.06.94-2.06 2.06-.94-2.06-.94-.94-2.06-.94 2.06-2.06.94z\"/><path d=\"M17.41 7.96l-1.37-1.37c-.4-.4-.92-.59-1.43-.59-.52 0-1.04.2-1.43.59L10.3 9.45l-7.72 7.72c-.78.78-.78 2.05 0 2.83L4 21.41c.39.39.9.59 1.41.59.51 0 1.02-.2 1.41-.59l7.78-7.78 2.81-2.81c.8-.78.8-2.07 0-2.86zM5.41 20L4 18.59l7.72-7.72 1.47 1.35L5.41 20z\"/>\n",
              "  </svg>\n",
              "      </button>\n",
              "      \n",
              "  <style>\n",
              "    .colab-df-container {\n",
              "      display:flex;\n",
              "      flex-wrap:wrap;\n",
              "      gap: 12px;\n",
              "    }\n",
              "\n",
              "    .colab-df-convert {\n",
              "      background-color: #E8F0FE;\n",
              "      border: none;\n",
              "      border-radius: 50%;\n",
              "      cursor: pointer;\n",
              "      display: none;\n",
              "      fill: #1967D2;\n",
              "      height: 32px;\n",
              "      padding: 0 0 0 0;\n",
              "      width: 32px;\n",
              "    }\n",
              "\n",
              "    .colab-df-convert:hover {\n",
              "      background-color: #E2EBFA;\n",
              "      box-shadow: 0px 1px 2px rgba(60, 64, 67, 0.3), 0px 1px 3px 1px rgba(60, 64, 67, 0.15);\n",
              "      fill: #174EA6;\n",
              "    }\n",
              "\n",
              "    [theme=dark] .colab-df-convert {\n",
              "      background-color: #3B4455;\n",
              "      fill: #D2E3FC;\n",
              "    }\n",
              "\n",
              "    [theme=dark] .colab-df-convert:hover {\n",
              "      background-color: #434B5C;\n",
              "      box-shadow: 0px 1px 3px 1px rgba(0, 0, 0, 0.15);\n",
              "      filter: drop-shadow(0px 1px 2px rgba(0, 0, 0, 0.3));\n",
              "      fill: #FFFFFF;\n",
              "    }\n",
              "  </style>\n",
              "\n",
              "      <script>\n",
              "        const buttonEl =\n",
              "          document.querySelector('#df-a9f261a2-a1fb-4cfa-818f-50497c751b38 button.colab-df-convert');\n",
              "        buttonEl.style.display =\n",
              "          google.colab.kernel.accessAllowed ? 'block' : 'none';\n",
              "\n",
              "        async function convertToInteractive(key) {\n",
              "          const element = document.querySelector('#df-a9f261a2-a1fb-4cfa-818f-50497c751b38');\n",
              "          const dataTable =\n",
              "            await google.colab.kernel.invokeFunction('convertToInteractive',\n",
              "                                                     [key], {});\n",
              "          if (!dataTable) return;\n",
              "\n",
              "          const docLinkHtml = 'Like what you see? Visit the ' +\n",
              "            '<a target=\"_blank\" href=https://colab.research.google.com/notebooks/data_table.ipynb>data table notebook</a>'\n",
              "            + ' to learn more about interactive tables.';\n",
              "          element.innerHTML = '';\n",
              "          dataTable['output_type'] = 'display_data';\n",
              "          await google.colab.output.renderOutput(dataTable, element);\n",
              "          const docLink = document.createElement('div');\n",
              "          docLink.innerHTML = docLinkHtml;\n",
              "          element.appendChild(docLink);\n",
              "        }\n",
              "      </script>\n",
              "    </div>\n",
              "  </div>\n",
              "  "
            ]
          },
          "metadata": {},
          "execution_count": 391
        }
      ]
    },
    {
      "cell_type": "code",
      "source": [
        "#convert to numpy array\n",
        "#We use 80 of the data for training\n",
        "train_pct=0.8  \n",
        "dataset= sp500_prices.values\n",
        "train_data_len=math.ceil(len(dataset)*train_pct)"
      ],
      "metadata": {
        "id": "U9MWLYaSkHgd"
      },
      "id": "U9MWLYaSkHgd",
      "execution_count": null,
      "outputs": []
    },
    {
      "cell_type": "code",
      "source": [
        "dataset.shape"
      ],
      "metadata": {
        "colab": {
          "base_uri": "https://localhost:8080/"
        },
        "id": "kKx0YXa3kret",
        "outputId": "c87f20f8-8159-4c52-d137-78d90ef73d7f"
      },
      "id": "kKx0YXa3kret",
      "execution_count": null,
      "outputs": [
        {
          "output_type": "execute_result",
          "data": {
            "text/plain": [
              "(2795, 2)"
            ]
          },
          "metadata": {},
          "execution_count": 393
        }
      ]
    },
    {
      "cell_type": "code",
      "source": [
        "#scaling the data\n",
        "\n",
        "scaler = MinMaxScaler(feature_range =(0,1))\n",
        "\n",
        "scaled_data= scaler.fit_transform(dataset)\n",
        "\n",
        "scaled_data.shape"
      ],
      "metadata": {
        "colab": {
          "base_uri": "https://localhost:8080/"
        },
        "id": "q6T5n-V4lUaX",
        "outputId": "140e8225-e583-4c35-b23a-50a0be8fe18e"
      },
      "id": "q6T5n-V4lUaX",
      "execution_count": null,
      "outputs": [
        {
          "output_type": "execute_result",
          "data": {
            "text/plain": [
              "(2795, 2)"
            ]
          },
          "metadata": {},
          "execution_count": 394
        }
      ]
    },
    {
      "cell_type": "code",
      "source": [
        "n_period = 60\n",
        "n_future = 5  # Number of future days to predict\n",
        "\n",
        "# Training dataset\n",
        "train_data = scaled_data[0:train_data_len]\n",
        "x_train = []\n",
        "y_train = []\n",
        "\n",
        "for i in range(n_period, len(train_data) - n_future + 1):\n",
        "    x_train.append(train_data[i - n_period:i, :])  # Adjust the number of columns based on the number of features\n",
        "    y_train.append(train_data[i:i + n_future, 0])  # Use the appropriate column index for the target variable\n",
        "\n",
        "# Convert x_train to numpy array and reshape\n",
        "x_train = np.array(x_train).reshape(-1, n_period, 2)  # Replace num_features with the actual number of features\n"
      ],
      "metadata": {
        "id": "9b-f6qKzmGo9"
      },
      "id": "9b-f6qKzmGo9",
      "execution_count": null,
      "outputs": []
    },
    {
      "cell_type": "code",
      "source": [
        "x_train"
      ],
      "metadata": {
        "colab": {
          "base_uri": "https://localhost:8080/"
        },
        "id": "9XA41HffnKfz",
        "outputId": "0392ec0d-130e-4a4e-e6d4-049e4235871c"
      },
      "id": "9XA41HffnKfz",
      "execution_count": null,
      "outputs": [
        {
          "output_type": "execute_result",
          "data": {
            "text/plain": [
              "array([[[0.00000000e+00, 0.00000000e+00],\n",
              "        [6.81887298e-05, 6.81887298e-05],\n",
              "        [1.13652507e-03, 1.13652507e-03],\n",
              "        ...,\n",
              "        [3.96220915e-02, 3.96220915e-02],\n",
              "        [3.84884106e-02, 3.84884106e-02],\n",
              "        [3.65051798e-02, 3.65051798e-02]],\n",
              "\n",
              "       [[6.81887298e-05, 6.81887298e-05],\n",
              "        [1.13652507e-03, 1.13652507e-03],\n",
              "        [2.13098451e-04, 2.13098451e-04],\n",
              "        ...,\n",
              "        [3.84884106e-02, 3.84884106e-02],\n",
              "        [3.65051798e-02, 3.65051798e-02],\n",
              "        [3.58630404e-02, 3.58630404e-02]],\n",
              "\n",
              "       [[1.13652507e-03, 1.13652507e-03],\n",
              "        [2.13098451e-04, 2.13098451e-04],\n",
              "        [1.03420730e-03, 1.03420730e-03],\n",
              "        ...,\n",
              "        [3.65051798e-02, 3.65051798e-02],\n",
              "        [3.58630404e-02, 3.58630404e-02],\n",
              "        [3.73376650e-02, 3.73376650e-02]],\n",
              "\n",
              "       ...,\n",
              "\n",
              "       [[5.98076412e-01, 5.98076412e-01],\n",
              "        [6.00289806e-01, 6.00289806e-01],\n",
              "        [5.96047745e-01, 5.96047745e-01],\n",
              "        ...,\n",
              "        [6.34575904e-01, 6.34575904e-01],\n",
              "        [6.34288928e-01, 6.34288928e-01],\n",
              "        [6.45955375e-01, 6.45955375e-01]],\n",
              "\n",
              "       [[6.00289806e-01, 6.00289806e-01],\n",
              "        [5.96047745e-01, 5.96047745e-01],\n",
              "        [5.99076560e-01, 5.99076560e-01],\n",
              "        ...,\n",
              "        [6.34288928e-01, 6.34288928e-01],\n",
              "        [6.45955375e-01, 6.45955375e-01],\n",
              "        [6.44543251e-01, 6.44543251e-01]],\n",
              "\n",
              "       [[5.96047745e-01, 5.96047745e-01],\n",
              "        [5.99076560e-01, 5.99076560e-01],\n",
              "        [6.02386661e-01, 6.02386661e-01],\n",
              "        ...,\n",
              "        [6.45955375e-01, 6.45955375e-01],\n",
              "        [6.44543251e-01, 6.44543251e-01],\n",
              "        [6.52251699e-01, 6.52251699e-01]]])"
            ]
          },
          "metadata": {},
          "execution_count": 396
        }
      ]
    },
    {
      "cell_type": "code",
      "source": [
        "#Converting into numpy array\n",
        "\n",
        "x_train, y_train = np.array(x_train), np.array(y_train)"
      ],
      "metadata": {
        "id": "194Zx6O_nNb7"
      },
      "id": "194Zx6O_nNb7",
      "execution_count": null,
      "outputs": []
    },
    {
      "cell_type": "code",
      "source": [
        "x_train.shape"
      ],
      "metadata": {
        "colab": {
          "base_uri": "https://localhost:8080/"
        },
        "id": "_pBffX2RnYyJ",
        "outputId": "25ac21a2-bfaf-4b2f-a017-eb2e12cc68c8"
      },
      "id": "_pBffX2RnYyJ",
      "execution_count": null,
      "outputs": [
        {
          "output_type": "execute_result",
          "data": {
            "text/plain": [
              "(2172, 60, 2)"
            ]
          },
          "metadata": {},
          "execution_count": 398
        }
      ]
    },
    {
      "cell_type": "code",
      "source": [
        "y_train.shape"
      ],
      "metadata": {
        "colab": {
          "base_uri": "https://localhost:8080/"
        },
        "id": "N4vWExSwnabI",
        "outputId": "f2d665cc-d721-4d36-ebbf-c0c431aa2b5d"
      },
      "id": "N4vWExSwnabI",
      "execution_count": null,
      "outputs": [
        {
          "output_type": "execute_result",
          "data": {
            "text/plain": [
              "(2172, 5)"
            ]
          },
          "metadata": {},
          "execution_count": 399
        }
      ]
    },
    {
      "cell_type": "code",
      "source": [
        "x_train=np.reshape(x_train, (x_train.shape[0], x_train.shape[1],2))\n",
        "x_train.shape"
      ],
      "metadata": {
        "colab": {
          "base_uri": "https://localhost:8080/"
        },
        "id": "XjVwYpPvncA9",
        "outputId": "9a8b002c-2e22-477f-b32a-2f17d35c82df"
      },
      "id": "XjVwYpPvncA9",
      "execution_count": null,
      "outputs": [
        {
          "output_type": "execute_result",
          "data": {
            "text/plain": [
              "(2172, 60, 2)"
            ]
          },
          "metadata": {},
          "execution_count": 400
        }
      ]
    },
    {
      "cell_type": "markdown",
      "source": [
        "#Building the LTSM model"
      ],
      "metadata": {
        "id": "aPEnABIengbC"
      },
      "id": "aPEnABIengbC"
    },
    {
      "cell_type": "code",
      "source": [
        "#Build the LSTM model\n",
        "model=Sequential()\n",
        "model.add(LSTM(50,return_sequences=True, input_shape=(x_train.shape[1],2)))\n",
        "model.add(LSTM(50, return_sequences=False))\n",
        "model.add(Dense(25))\n",
        "model.add(Dense(1))\n"
      ],
      "metadata": {
        "id": "grwQhlbwneRD"
      },
      "id": "grwQhlbwneRD",
      "execution_count": null,
      "outputs": []
    },
    {
      "cell_type": "code",
      "source": [
        "model.compile(optimizer='adam', loss='mean_squared_error')"
      ],
      "metadata": {
        "id": "XijUoicUnjcW"
      },
      "id": "XijUoicUnjcW",
      "execution_count": null,
      "outputs": []
    },
    {
      "cell_type": "code",
      "source": [
        "model.fit(x_train,y_train, batch_size=1, epochs=1)"
      ],
      "metadata": {
        "colab": {
          "base_uri": "https://localhost:8080/"
        },
        "id": "umQvaiKsnl9v",
        "outputId": "30add8fd-f0ac-483a-fdab-95a27bea0960"
      },
      "id": "umQvaiKsnl9v",
      "execution_count": null,
      "outputs": [
        {
          "output_type": "stream",
          "name": "stdout",
          "text": [
            "2172/2172 [==============================] - 71s 31ms/step - loss: 6.5829e-04\n"
          ]
        },
        {
          "output_type": "execute_result",
          "data": {
            "text/plain": [
              "<keras.callbacks.History at 0x7f50cbed61a0>"
            ]
          },
          "metadata": {},
          "execution_count": 403
        }
      ]
    },
    {
      "cell_type": "code",
      "source": [
        "# Test data\n",
        "test_data = scaled_data[train_data_len - n_period:, :]  # Extract the portion of the test data for prediction\n",
        "\n",
        "# Prepare the test inputs (similar to training)\n",
        "x_test = []\n",
        "y_test = []\n",
        "\n",
        "for i in range(n_period, len(test_data) - n_future + 1):\n",
        "    x_test.append(test_data[i - n_period:i, :])  # Adjust the number of columns based on the number of features\n",
        "    y_test.append(test_data[i:i + n_future, 0])  # Use the appropriate column index for the target variable\n",
        "\n",
        "# Convert x_test to numpy array and reshape\n",
        "x_test = np.array(x_test).reshape(-1, n_period,2)  \n"
      ],
      "metadata": {
        "id": "AMijhvuknnUU"
      },
      "id": "AMijhvuknnUU",
      "execution_count": null,
      "outputs": []
    },
    {
      "cell_type": "code",
      "source": [
        "x_test.shape"
      ],
      "metadata": {
        "colab": {
          "base_uri": "https://localhost:8080/"
        },
        "id": "B5WfZ5WDoSvC",
        "outputId": "bff503b6-8a07-4e89-c911-a31b14541bff"
      },
      "id": "B5WfZ5WDoSvC",
      "execution_count": null,
      "outputs": [
        {
          "output_type": "execute_result",
          "data": {
            "text/plain": [
              "(555, 60, 2)"
            ]
          },
          "metadata": {},
          "execution_count": 409
        }
      ]
    },
    {
      "cell_type": "code",
      "source": [
        "scaled_data"
      ],
      "metadata": {
        "colab": {
          "base_uri": "https://localhost:8080/"
        },
        "id": "4u5vDCQepqcT",
        "outputId": "cc84fbb0-6778-44dd-9af9-8ff22ca8fe24"
      },
      "id": "4u5vDCQepqcT",
      "execution_count": null,
      "outputs": [
        {
          "output_type": "execute_result",
          "data": {
            "text/plain": [
              "array([[0.00000000e+00, 0.00000000e+00],\n",
              "       [6.81887298e-05, 6.81887298e-05],\n",
              "       [1.13652507e-03, 1.13652507e-03],\n",
              "       ...,\n",
              "       [8.20269908e-01, 8.20269908e-01],\n",
              "       [8.07160052e-01, 8.07160052e-01],\n",
              "       [7.96829078e-01, 7.96829078e-01]])"
            ]
          },
          "metadata": {},
          "execution_count": 410
        }
      ]
    },
    {
      "cell_type": "code",
      "source": [
        "scaler.data_max_"
      ],
      "metadata": {
        "colab": {
          "base_uri": "https://localhost:8080/"
        },
        "id": "H6YgBkajprx3",
        "outputId": "29ed7013-8384-4f88-a555-ccb0d06e12ff"
      },
      "id": "H6YgBkajprx3",
      "execution_count": null,
      "outputs": [
        {
          "output_type": "execute_result",
          "data": {
            "text/plain": [
              "array([4796.56005859, 4796.56005859])"
            ]
          },
          "metadata": {},
          "execution_count": 411
        }
      ]
    },
    {
      "cell_type": "code",
      "source": [
        "scaler.data_min_"
      ],
      "metadata": {
        "colab": {
          "base_uri": "https://localhost:8080/"
        },
        "id": "db8mAqkHptCY",
        "outputId": "5608d734-cb44-4277-fbd8-114955b0c3b9"
      },
      "id": "db8mAqkHptCY",
      "execution_count": null,
      "outputs": [
        {
          "output_type": "execute_result",
          "data": {
            "text/plain": [
              "array([1277.06005859, 1277.06005859])"
            ]
          },
          "metadata": {},
          "execution_count": 412
        }
      ]
    },
    {
      "cell_type": "code",
      "source": [
        "predictions_scaled=model.predict(x_test)"
      ],
      "metadata": {
        "colab": {
          "base_uri": "https://localhost:8080/"
        },
        "id": "f3YS7yLPpuIU",
        "outputId": "f65f140a-d076-40b4-ad1e-42c9e50d3358"
      },
      "id": "f3YS7yLPpuIU",
      "execution_count": null,
      "outputs": [
        {
          "output_type": "stream",
          "name": "stdout",
          "text": [
            "18/18 [==============================] - 2s 35ms/step\n"
          ]
        }
      ]
    },
    {
      "cell_type": "code",
      "source": [
        "#predictions=scaler.inverse_transform(predictions)\n",
        "predictions=predictions_scaled*(scaler.data_max_[0]-scaler.data_min_[0])+scaler.data_min_[0]"
      ],
      "metadata": {
        "id": "QA_C1JqFp_iM"
      },
      "id": "QA_C1JqFp_iM",
      "execution_count": null,
      "outputs": []
    },
    {
      "cell_type": "code",
      "source": [
        "predictions.shape"
      ],
      "metadata": {
        "colab": {
          "base_uri": "https://localhost:8080/"
        },
        "id": "m__kTBPNqCsD",
        "outputId": "fe72ea4f-00c0-4cab-cb29-2608f9bbddb0"
      },
      "id": "m__kTBPNqCsD",
      "execution_count": null,
      "outputs": [
        {
          "output_type": "execute_result",
          "data": {
            "text/plain": [
              "(555, 1)"
            ]
          },
          "metadata": {},
          "execution_count": 415
        }
      ]
    },
    {
      "cell_type": "code",
      "source": [
        "#RMSE\n",
        "rmse=np.sqrt(np.mean(predictions-y_test)**2)\n",
        "rmse"
      ],
      "metadata": {
        "colab": {
          "base_uri": "https://localhost:8080/"
        },
        "id": "cDQuUu8lqD2f",
        "outputId": "e2893ac3-7321-43f0-cf76-6993a68ea251"
      },
      "id": "cDQuUu8lqD2f",
      "execution_count": null,
      "outputs": [
        {
          "output_type": "execute_result",
          "data": {
            "text/plain": [
              "4025.766567177515"
            ]
          },
          "metadata": {},
          "execution_count": 416
        }
      ]
    },
    {
      "cell_type": "code",
      "source": [
        "sp500_prices.max()"
      ],
      "metadata": {
        "colab": {
          "base_uri": "https://localhost:8080/"
        },
        "id": "dcEFbEp_qGzs",
        "outputId": "ebb49978-d6b4-413d-95d6-0bbcca32e629"
      },
      "id": "dcEFbEp_qGzs",
      "execution_count": null,
      "outputs": [
        {
          "output_type": "execute_result",
          "data": {
            "text/plain": [
              "Close        4796.560059\n",
              "Adj Close    4796.560059\n",
              "dtype: float64"
            ]
          },
          "metadata": {},
          "execution_count": 418
        }
      ]
    },
    {
      "cell_type": "code",
      "source": [
        "# Download stock data\n",
        "df = yf.download(\"^GSPC\", start=\"2012-01-01\", end=\"2023-02-10\")\n",
        "\n",
        "# Extract the 'Close' price for the chosen stock\n",
        "prices = df['Close']\n",
        "\n",
        "# Split the data into training and testing sets\n",
        "train_data_len = math.ceil(len(prices) * 0.8)\n",
        "train_data = prices[:train_data_len]\n",
        "test_data = prices[train_data_len:]\n",
        "\n",
        "# Scale the data\n",
        "scaler = MinMaxScaler(feature_range=(0, 1))\n",
        "train_data = scaler.fit_transform(train_data.values.reshape(-1, 1))\n",
        "test_data = scaler.transform(test_data.values.reshape(-1, 1))\n",
        "\n",
        "# Define constants and variables\n",
        "n_period = 60\n",
        "n_future = 5\n",
        "threshold = 0.05\n",
        "position = 0\n",
        "capital = 10000\n",
        "pnls = []\n",
        "\n",
        "# Prepare the training data\n",
        "x_train = []\n",
        "y_train = []\n",
        "for i in range(n_period, len(train_data) - n_future + 1):\n",
        "    x_train.append(train_data[i - n_period:i, 0])\n",
        "    y_train.append(train_data[i:i + n_future, 0])\n",
        "\n",
        "# Convert to numpy arrays\n",
        "x_train = np.array(x_train)\n",
        "y_train = np.array(y_train)\n",
        "\n",
        "# Reshape the input data for LSTM\n",
        "x_train = np.reshape(x_train, (x_train.shape[0], x_train.shape[1], 1))\n",
        "\n",
        "# Build the LSTM model\n",
        "model = Sequential()\n",
        "model.add(LSTM(units=50, return_sequences=True, input_shape=(n_period, 1)))\n",
        "model.add(LSTM(units=50))\n",
        "model.add(Dense(units=n_future))\n",
        "model.compile(optimizer='adam', loss='mean_squared_error')\n",
        "\n",
        "# Train the model\n",
        "model.fit(x_train, y_train, epochs=10, batch_size=32)\n",
        "\n",
        "# Prepare the testing data\n",
        "x_test = []\n",
        "y_test = []\n",
        "for i in range(n_period, len(test_data) - n_future + 1):\n",
        "    x_test.append(test_data[i - n_period:i, 0])\n",
        "    y_test.append(test_data[i:i + n_future, 0])\n",
        "\n",
        "# Convert to numpy arrays\n",
        "x_test = np.array(x_test)\n",
        "y_test = np.array(y_test)\n",
        "\n",
        "# Reshape the input data for LSTM\n",
        "x_test = np.reshape(x_test, (x_test.shape[0], x_test.shape[1], 1))\n",
        "\n",
        "# Make predictions for the testing data\n",
        "predictions = model.predict(x_test)\n",
        "predictions = scaler.inverse_transform(predictions)\n",
        "\n",
        "\n"
      ],
      "metadata": {
        "colab": {
          "base_uri": "https://localhost:8080/"
        },
        "id": "PsCPp1YtqZbI",
        "outputId": "68500abd-e8f8-4c92-eba0-f70599aaee37"
      },
      "id": "PsCPp1YtqZbI",
      "execution_count": null,
      "outputs": [
        {
          "output_type": "stream",
          "name": "stdout",
          "text": [
            "\r[*********************100%***********************]  1 of 1 completed\n",
            "Epoch 1/10\n",
            "68/68 [==============================] - 8s 64ms/step - loss: 0.0300\n",
            "Epoch 2/10\n",
            "68/68 [==============================] - 5s 66ms/step - loss: 0.0012\n",
            "Epoch 3/10\n",
            "68/68 [==============================] - 4s 57ms/step - loss: 0.0012\n",
            "Epoch 4/10\n",
            "68/68 [==============================] - 4s 63ms/step - loss: 0.0011\n",
            "Epoch 5/10\n",
            "68/68 [==============================] - 5s 80ms/step - loss: 0.0011\n",
            "Epoch 6/10\n",
            "68/68 [==============================] - 4s 57ms/step - loss: 9.5267e-04\n",
            "Epoch 7/10\n",
            "68/68 [==============================] - 5s 70ms/step - loss: 9.4277e-04\n",
            "Epoch 8/10\n",
            "68/68 [==============================] - 4s 62ms/step - loss: 8.6393e-04\n",
            "Epoch 9/10\n",
            "68/68 [==============================] - 4s 56ms/step - loss: 8.9012e-04\n",
            "Epoch 10/10\n",
            "68/68 [==============================] - 5s 68ms/step - loss: 8.5407e-04\n",
            "16/16 [==============================] - 1s 17ms/step\n"
          ]
        }
      ]
    },
    {
      "cell_type": "markdown",
      "source": [
        "Part a"
      ],
      "metadata": {
        "id": "WzFgsnPtsBaZ"
      },
      "id": "WzFgsnPtsBaZ"
    },
    {
      "cell_type": "code",
      "source": [
        "predicted_prices = predictions[-n_future:]\n",
        "\n",
        "print(predicted_prices)"
      ],
      "metadata": {
        "colab": {
          "base_uri": "https://localhost:8080/"
        },
        "id": "O2tM0JllrDxj",
        "outputId": "5d7700dd-6f27-473f-cd78-258f782cad24"
      },
      "id": "O2tM0JllrDxj",
      "execution_count": null,
      "outputs": [
        {
          "output_type": "stream",
          "name": "stdout",
          "text": [
            "[[4060.897  3986.8005 3959.675  3957.675  4064.2964]\n",
            " [4070.3965 3995.9465 3968.3386 3965.7515 4073.0776]\n",
            " [4080.5613 4005.4963 3977.5735 3974.5676 4082.9124]\n",
            " [4092.9583 4016.6326 3988.414  3985.131  4094.7805]\n",
            " [4109.6274 4031.0254 4002.4705 3999.2368 4110.6914]]\n"
          ]
        }
      ]
    },
    {
      "cell_type": "markdown",
      "source": [
        "Part b"
      ],
      "metadata": {
        "id": "SDpyNXh9uOa7"
      },
      "id": "SDpyNXh9uOa7"
    },
    {
      "cell_type": "code",
      "source": [
        "current_price = df['Close'].iloc[-1]\n",
        "print(\"Current Price:\", current_price)"
      ],
      "metadata": {
        "colab": {
          "base_uri": "https://localhost:8080/"
        },
        "id": "d81DiiZosMcR",
        "outputId": "afbb8d00-b285-4642-c670-9993f826f205"
      },
      "id": "d81DiiZosMcR",
      "execution_count": null,
      "outputs": [
        {
          "output_type": "stream",
          "name": "stdout",
          "text": [
            "Current Price: 4081.5\n"
          ]
        }
      ]
    },
    {
      "cell_type": "code",
      "source": [
        "threshold = 0.01  # Change the threshold value as needed \n",
        "\n",
        "# Get the last n_future predictions\n",
        "predicted_prices = predictions[-n_future:]\n",
        "\n",
        "# Replicate current_price to match the length of predicted_prices\n",
        "current_prices = np.full(predicted_prices.shape, current_price)\n",
        "\n",
        "# Loop through the predicted prices and generate trading signals\n",
        "for i, predicted_price in enumerate(predicted_prices):\n",
        "    if predicted_price[0] > current_prices[i][0] * (1 + threshold):\n",
        "        # Buy one share\n",
        "        print(\"Buy one share on day\", i)\n",
        "    elif predicted_price[0] < current_prices[i][0] * (1 - threshold):\n",
        "        # Short one share\n",
        "        print(\"Short one share on day\", i)\n",
        "    else:\n",
        "        # Hold or take no action\n",
        "        print(\"Hold or take no action on day\", i)"
      ],
      "metadata": {
        "colab": {
          "base_uri": "https://localhost:8080/"
        },
        "id": "NLEHjyQLuPqj",
        "outputId": "a7a47e5d-040f-4911-a1a7-9e87ddb330dd"
      },
      "id": "NLEHjyQLuPqj",
      "execution_count": null,
      "outputs": [
        {
          "output_type": "stream",
          "name": "stdout",
          "text": [
            "Hold or take no action on day 0\n",
            "Hold or take no action on day 1\n",
            "Hold or take no action on day 2\n",
            "Hold or take no action on day 3\n",
            "Hold or take no action on day 4\n"
          ]
        }
      ]
    },
    {
      "cell_type": "markdown",
      "source": [
        "Part c"
      ],
      "metadata": {
        "id": "QMFRQ-YrvBLE"
      },
      "id": "QMFRQ-YrvBLE"
    },
    {
      "cell_type": "code",
      "source": [
        "# Initialize variables\n",
        "position = 0\n",
        "capital = 10000  # Starting capital\n",
        "pnls = []\n",
        "\n",
        "# Loop through the predicted prices and generate trading signals\n",
        "for i, predicted_price in enumerate(predicted_prices):\n",
        "    if predicted_price[0] > current_prices[i][0] * (1 + threshold):\n",
        "        # Buy one share\n",
        "        if position == 0:\n",
        "            shares_to_buy = capital // current_prices[i][0]\n",
        "            position += shares_to_buy\n",
        "            capital -= shares_to_buy * current_prices[i][0]\n",
        "    elif predicted_price[0] < current_prices[i][0] * (1 - threshold):\n",
        "        # Short one share\n",
        "        if position > 0:\n",
        "            shares_to_sell = position\n",
        "            position -= shares_to_sell\n",
        "            capital += shares_to_sell * current_prices[i][0]\n",
        "\n",
        "    # Calculate PnL for current trade\n",
        "    pnl = (position * current_prices[i][0]) - 10000\n",
        "    pnls.append(pnl)\n",
        "\n",
        "# Calculate accumulated PnL\n",
        "accumulated_pnl = sum(pnls)\n",
        "\n",
        "print(\"Accumulated PnL:\", accumulated_pnl)\n"
      ],
      "metadata": {
        "colab": {
          "base_uri": "https://localhost:8080/"
        },
        "id": "0P6o3hX3ufCc",
        "outputId": "837bde42-2c98-4c66-da95-a4b1ca4cd385"
      },
      "id": "0P6o3hX3ufCc",
      "execution_count": null,
      "outputs": [
        {
          "output_type": "stream",
          "name": "stdout",
          "text": [
            "Accumulated PnL: -50000.0\n"
          ]
        }
      ]
    },
    {
      "cell_type": "code",
      "source": [],
      "metadata": {
        "id": "KO7I1fIFvCR-"
      },
      "id": "KO7I1fIFvCR-",
      "execution_count": null,
      "outputs": []
    }
  ],
  "metadata": {
    "kernelspec": {
      "display_name": "Python 3 (ipykernel)",
      "language": "python",
      "name": "python3"
    },
    "language_info": {
      "codemirror_mode": {
        "name": "ipython",
        "version": 3
      },
      "file_extension": ".py",
      "mimetype": "text/x-python",
      "name": "python",
      "nbconvert_exporter": "python",
      "pygments_lexer": "ipython3",
      "version": "3.9.7"
    },
    "colab": {
      "provenance": [],
      "include_colab_link": true
    }
  },
  "nbformat": 4,
  "nbformat_minor": 5
}